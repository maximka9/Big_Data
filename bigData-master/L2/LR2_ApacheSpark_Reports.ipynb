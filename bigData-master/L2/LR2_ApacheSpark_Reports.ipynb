{
  "nbformat": 4,
  "nbformat_minor": 0,
  "metadata": {
    "colab": {
      "provenance": []
    },
    "kernelspec": {
      "name": "python3",
      "display_name": "Python 3"
    },
    "language_info": {
      "name": "python"
    }
  },
  "cells": [
    {
      "cell_type": "code",
      "source": [
        "!pip install pyspark"
      ],
      "metadata": {
        "colab": {
          "base_uri": "https://localhost:8080/"
        },
        "id": "5AZaNES6tQo4",
        "outputId": "2d319b61-1fb0-4c5c-9e65-75ed91429ef7"
      },
      "execution_count": 2,
      "outputs": [
        {
          "output_type": "stream",
          "name": "stdout",
          "text": [
            "Collecting pyspark\n",
            "  Downloading pyspark-3.5.1.tar.gz (317.0 MB)\n",
            "\u001b[2K     \u001b[90m━━━━━━━━━━━━━━━━━━━━━━━━━━━━━━━━━━━━━━━━\u001b[0m \u001b[32m317.0/317.0 MB\u001b[0m \u001b[31m4.6 MB/s\u001b[0m eta \u001b[36m0:00:00\u001b[0m\n",
            "\u001b[?25h  Preparing metadata (setup.py) ... \u001b[?25l\u001b[?25hdone\n",
            "Requirement already satisfied: py4j==0.10.9.7 in /usr/local/lib/python3.10/dist-packages (from pyspark) (0.10.9.7)\n",
            "Building wheels for collected packages: pyspark\n",
            "  Building wheel for pyspark (setup.py) ... \u001b[?25l\u001b[?25hdone\n",
            "  Created wheel for pyspark: filename=pyspark-3.5.1-py2.py3-none-any.whl size=317488491 sha256=57d45430f35737f64f48c7c3e5de52ab48c9f0664ff2cfaed2eadf039e63abb6\n",
            "  Stored in directory: /root/.cache/pip/wheels/80/1d/60/2c256ed38dddce2fdd93be545214a63e02fbd8d74fb0b7f3a6\n",
            "Successfully built pyspark\n",
            "Installing collected packages: pyspark\n",
            "Successfully installed pyspark-3.5.1\n"
          ]
        }
      ]
    },
    {
      "cell_type": "code",
      "execution_count": 3,
      "metadata": {
        "id": "z2Gxo7WEssKf"
      },
      "outputs": [],
      "source": [
        "import re\n",
        "from typing import List\n",
        "\n",
        "import pyspark.sql as sql\n",
        "\n",
        "from pyspark import SparkContext, SparkConf\n",
        "from pyspark.sql import SparkSession\n",
        "from pyspark.sql.window import Window\n",
        "from pyspark.sql.types import DoubleType, IntegerType, ArrayType, StringType\n",
        "from pyspark.sql.functions import udf, explode, rank, desc\n",
        "from pyspark.sql.functions import col, max, sum, lower, countDistinct"
      ]
    },
    {
      "cell_type": "code",
      "source": [
        "spark = SparkSession \\\n",
        "    .builder \\\n",
        "    .appName(\"L2_ApacheSpart_Reports\") \\\n",
        "    .config(\"spark.jars.packages\", \"com.databricks:spark-xml_2.12:0.13.0\")\\\n",
        "    .getOrCreate()"
      ],
      "metadata": {
        "id": "muX3acq2tZ1O"
      },
      "execution_count": 4,
      "outputs": []
    },
    {
      "cell_type": "code",
      "source": [
        "posts_data = spark.read.format('xml').options(rowTag='row').load('posts_sample.xml')\n",
        "\n",
        "prog_lang_data = spark.read\\\n",
        ".option(\"header\", True)\\\n",
        ".option(\"inferSchema\", True)\\\n",
        ".option(\"timestampFormat\", 'M/d/y H:m')\\\n",
        ".csv(\"programming-languages.csv\")"
      ],
      "metadata": {
        "id": "e-TG4badteSA"
      },
      "execution_count": 5,
      "outputs": []
    },
    {
      "cell_type": "code",
      "source": [
        "def get_tags(tags_string): #Функции для обработки содержимого столбцов с тегами и датой последней активности поста\n",
        "    if tags_string is None:\n",
        "        return []\n",
        "\n",
        "    pattern = r'<(.+?)>'\n",
        "    tags = re.findall(pattern, tags_string)\n",
        "\n",
        "    return tags\n",
        "\n",
        "def get_year(date_and_time):\n",
        "    return date_and_time.year\n",
        "\n",
        "get_tags_udf = udf(get_tags, ArrayType(StringType()))\n",
        "get_year_udf = udf(get_year, IntegerType())"
      ],
      "metadata": {
        "id": "T3U8ftxWuYBv"
      },
      "execution_count": 6,
      "outputs": []
    },
    {
      "cell_type": "code",
      "source": [
        "# Применение приведенных выше функция для преобразования данных в нужный вид\n",
        "posts_data_simplified = posts_data \\\n",
        "                        .withColumn(\"tags\", get_tags_udf(posts_data[\"_Tags\"])) \\\n",
        "                        .withColumn(\"year\", get_year_udf(posts_data[\"_LastActivityDate\"]))\n",
        "\n",
        "# Выбор только нужных столбцов\n",
        "posts_data_simplified = posts_data_simplified.select(\n",
        "    col(\"tags\"),\n",
        "    col(\"year\"),\n",
        "    col(\"_ViewCount\").alias(\"views\")\n",
        ")\n",
        "\n",
        "# Отображение полученных данных\n",
        "posts_data_simplified.show()"
      ],
      "metadata": {
        "colab": {
          "base_uri": "https://localhost:8080/"
        },
        "id": "sMsBbGBhtYDc",
        "outputId": "9b76ef2d-3480-4969-c737-29b6bc07aba3"
      },
      "execution_count": 7,
      "outputs": [
        {
          "output_type": "stream",
          "name": "stdout",
          "text": [
            "+--------------------+----+------+\n",
            "|                tags|year| views|\n",
            "+--------------------+----+------+\n",
            "|[c#, floating-poi...|2019| 42817|\n",
            "|[html, css, inter...|2019| 18214|\n",
            "|                  []|2017|  NULL|\n",
            "|[c#, .net, datetime]|2019|555183|\n",
            "|[c#, datetime, ti...|2019|149445|\n",
            "|                  []|2018|  NULL|\n",
            "|[html, browser, t...|2019|176405|\n",
            "|        [.net, math]|2018|123231|\n",
            "|                  []|2010|  NULL|\n",
            "|                  []|2010|  NULL|\n",
            "|                  []|2010|  NULL|\n",
            "|                  []|2010|  NULL|\n",
            "|                  []|2010|  NULL|\n",
            "|                  []|2010|  NULL|\n",
            "|                  []|2010|  NULL|\n",
            "|                  []|2010|  NULL|\n",
            "|                  []|2010|  NULL|\n",
            "|                  []|2010|  NULL|\n",
            "|                  []|2013|  NULL|\n",
            "|                  []|2010|  NULL|\n",
            "+--------------------+----+------+\n",
            "only showing top 20 rows\n",
            "\n"
          ]
        }
      ]
    },
    {
      "cell_type": "markdown",
      "source": [
        "#Удаление тегов, не соответствующих языкам программирования"
      ],
      "metadata": {
        "id": "IaNEomN4ukfS"
      }
    },
    {
      "cell_type": "code",
      "source": [
        "# Добавление столбца, содержащего название языка программирования, но в нижнем регистре\n",
        "prog_lang_data_modified = prog_lang_data.withColumn(\"tag_lowercase\", lower(prog_lang_data[\"name\"]))\n",
        "\n",
        "# Разбиение массива тегов на отдельные столбцы\n",
        "posts_data_filtered = posts_data_simplified.select(\"year\", explode(\"tags\").alias(\"tag\"), \"views\")\n",
        "\n",
        "# Объединение таблиц для того, чтобы оставить только те строки, где поле tag у постов является языком программирования\n",
        "posts_data_filtered = posts_data_filtered.join(prog_lang_data_modified,\n",
        "                                    (posts_data_filtered[\"tag\"] == prog_lang_data_modified[\"tag_lowercase\"]),\n",
        "                                    \"inner\")\n",
        "\n",
        "# Выбор нужных столбцов\n",
        "posts_data_filtered = posts_data_filtered.select(\"year\", \"tag\", \"views\")\n",
        "\n",
        "# Отображение результата\n",
        "posts_data_filtered.show()"
      ],
      "metadata": {
        "colab": {
          "base_uri": "https://localhost:8080/"
        },
        "id": "pZ-sIylBug6V",
        "outputId": "d58c9490-f739-4773-dec6-98e7a5756198"
      },
      "execution_count": 8,
      "outputs": [
        {
          "output_type": "stream",
          "name": "stdout",
          "text": [
            "+----+-----------+-----+\n",
            "|year|        tag|views|\n",
            "+----+-----------+-----+\n",
            "|2010|       java|  132|\n",
            "|2010|        php| 1258|\n",
            "|2015|       ruby| 9649|\n",
            "|2010|          c| 2384|\n",
            "|2015|        php| 1987|\n",
            "|2010|     python| 3321|\n",
            "|2010| javascript|  128|\n",
            "|2010|applescript|  477|\n",
            "|2010|        php| 1748|\n",
            "|2010|        php|  998|\n",
            "|2013| javascript| 2095|\n",
            "|2010|        sed|  447|\n",
            "|2015|     python| 6558|\n",
            "|2015|       java|  214|\n",
            "|2015|       ruby|  214|\n",
            "|2013|objective-c|  852|\n",
            "|2010| javascript|  179|\n",
            "|2010|          r| 6709|\n",
            "|2010|        php|   78|\n",
            "|2010| javascript| 1280|\n",
            "+----+-----------+-----+\n",
            "only showing top 20 rows\n",
            "\n"
          ]
        }
      ]
    },
    {
      "cell_type": "code",
      "source": [
        "# Группировка по году последней активности и тегам, суммирование всех просмотров для каждого языка программирования в пределах одного года\n",
        "posts_data_sorted = posts_data_filtered.groupBy(\"year\", \"tag\").agg(sum(\"views\").alias(\"total_views\"))\n",
        "\n",
        "# Сортировка по году и количеству просмотров\n",
        "posts_data_sorted = posts_data_sorted.orderBy(\"year\", desc(\"total_views\"))\n",
        "\n",
        "# Отображение результата\n",
        "posts_data_sorted.show()"
      ],
      "metadata": {
        "colab": {
          "base_uri": "https://localhost:8080/"
        },
        "id": "_N1Po59FupJg",
        "outputId": "bda61d12-3ec2-4323-d95d-5dd90a3be39b"
      },
      "execution_count": 9,
      "outputs": [
        {
          "output_type": "stream",
          "name": "stdout",
          "text": [
            "+----+------------+-----------+\n",
            "|year|         tag|total_views|\n",
            "+----+------------+-----------+\n",
            "|2008|        java|      11532|\n",
            "|2008|        ruby|       1843|\n",
            "|2008|         x++|       1363|\n",
            "|2009|      python|      32219|\n",
            "|2009|  javascript|      17139|\n",
            "|2009|           c|      16356|\n",
            "|2009|        java|      13533|\n",
            "|2009|         php|      12876|\n",
            "|2009|        bash|       4410|\n",
            "|2009|     haskell|       3992|\n",
            "|2009|       xpath|       3869|\n",
            "|2009| objective-c|       3671|\n",
            "|2009|      delphi|       3477|\n",
            "|2009|        ruby|       2844|\n",
            "|2009|  powershell|        536|\n",
            "|2009|actionscript|        318|\n",
            "|2010|        java|      53333|\n",
            "|2010|      matlab|      51865|\n",
            "|2010| objective-c|      43878|\n",
            "|2010|         php|      39730|\n",
            "+----+------------+-----------+\n",
            "only showing top 20 rows\n",
            "\n"
          ]
        }
      ]
    },
    {
      "cell_type": "markdown",
      "source": [
        "#Составление итогового отчета (N самых популярных языков программирования за год)"
      ],
      "metadata": {
        "id": "XfIOqwgGupz2"
      }
    },
    {
      "cell_type": "code",
      "source": [
        "# Разбиение по году последней активности для нумерации языков программирования в соответствии с их популярностью\n",
        "window_spec = Window.partitionBy(\"year\").orderBy(posts_data_sorted[\"total_views\"].desc())\n",
        "\n",
        "# Добавление столбца rank, определяющего положение языка программирования в топе\n",
        "posts_data_with_ranks = posts_data_sorted.withColumn(\"rank\", rank().over(window_spec))\n",
        "\n",
        "# Оставляем только первые N языков программирования для каждого года\n",
        "languages_per_year = 10\n",
        "posts_data_sorted_result = posts_data_with_ranks.filter(posts_data_with_ranks[\"rank\"] <= languages_per_year)\n",
        "\n",
        "# Удаление столбца rank\n",
        "posts_data_sorted_result = posts_data_sorted_result.drop(col(\"rank\"))\n",
        "\n",
        "# Сортировка по году и количеству просмотров\n",
        "posts_data_sorted_result = posts_data_sorted_result.orderBy(\"year\", desc(\"total_views\"))\n",
        "\n",
        "# Отображение результата\n",
        "posts_data_sorted_result.show()"
      ],
      "metadata": {
        "colab": {
          "base_uri": "https://localhost:8080/"
        },
        "id": "iOLu9f3-usA7",
        "outputId": "e5f45a39-d336-4832-8a68-f5efb4947a2b"
      },
      "execution_count": 10,
      "outputs": [
        {
          "output_type": "stream",
          "name": "stdout",
          "text": [
            "+----+-----------+-----------+\n",
            "|year|        tag|total_views|\n",
            "+----+-----------+-----------+\n",
            "|2008|       java|      11532|\n",
            "|2008|       ruby|       1843|\n",
            "|2008|        x++|       1363|\n",
            "|2009|     python|      32219|\n",
            "|2009| javascript|      17139|\n",
            "|2009|          c|      16356|\n",
            "|2009|       java|      13533|\n",
            "|2009|        php|      12876|\n",
            "|2009|       bash|       4410|\n",
            "|2009|    haskell|       3992|\n",
            "|2009|      xpath|       3869|\n",
            "|2009|objective-c|       3671|\n",
            "|2009|     delphi|       3477|\n",
            "|2010|       java|      53333|\n",
            "|2010|     matlab|      51865|\n",
            "|2010|objective-c|      43878|\n",
            "|2010|        php|      39730|\n",
            "|2010| javascript|      37059|\n",
            "|2010|     python|      25930|\n",
            "|2010|       ruby|      15864|\n",
            "+----+-----------+-----------+\n",
            "only showing top 20 rows\n",
            "\n"
          ]
        }
      ]
    },
    {
      "cell_type": "code",
      "source": [
        "posts_data_sorted_result.write.parquet(\"/output\")"
      ],
      "metadata": {
        "id": "CyIyzXxHuuFx"
      },
      "execution_count": 14,
      "outputs": []
    },
    {
      "cell_type": "markdown",
      "source": [],
      "metadata": {
        "id": "UAxhGzKl0Qxh"
      }
    }
  ]
}