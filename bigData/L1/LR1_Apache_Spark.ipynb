{
  "nbformat": 4,
  "nbformat_minor": 0,
  "metadata": {
    "colab": {
      "provenance": []
    },
    "kernelspec": {
      "name": "python3",
      "display_name": "Python 3"
    },
    "language_info": {
      "name": "python"
    }
  },
  "cells": [
    {
      "cell_type": "code",
      "source": [
        "!pip install pyspark"
      ],
      "metadata": {
        "colab": {
          "base_uri": "https://localhost:8080/"
        },
        "id": "QJDlj-KyY-UK",
        "outputId": "e4e7c08b-bf81-4c21-9ea8-e5a2a89e3382"
      },
      "execution_count": 19,
      "outputs": [
        {
          "output_type": "stream",
          "name": "stdout",
          "text": [
            "Requirement already satisfied: pyspark in /usr/local/lib/python3.10/dist-packages (3.5.1)\n",
            "Requirement already satisfied: py4j==0.10.9.7 in /usr/local/lib/python3.10/dist-packages (from pyspark) (0.10.9.7)\n"
          ]
        }
      ]
    },
    {
      "cell_type": "code",
      "execution_count": 17,
      "metadata": {
        "id": "mKDfjYPvYz4F"
      },
      "outputs": [],
      "source": [
        "from pyspark import SparkContext, SparkConf\n",
        "\n",
        "import pyspark.sql as sql\n",
        "from pyspark.sql import SparkSession\n",
        "from pyspark.sql.types import DoubleType\n",
        "from pyspark.sql.functions import udf, col, max, sum, countDistinct\n",
        "from typing import NamedTuple\n",
        "from datetime import datetime\n",
        "from functools import reduce"
      ]
    },
    {
      "cell_type": "code",
      "source": [
        "app_name = \"LR1_Apache_Spark\"\n",
        "conf = SparkConf().setAppName(app_name).setMaster('local[1]')\n",
        "sc = SparkContext(conf=conf)\n",
        "sc"
      ],
      "metadata": {
        "colab": {
          "base_uri": "https://localhost:8080/",
          "height": 196
        },
        "id": "oqbOTcH0aOVo",
        "outputId": "c69d4979-63de-4023-d34c-3eb1e4cf3ae0"
      },
      "execution_count": 22,
      "outputs": [
        {
          "output_type": "execute_result",
          "data": {
            "text/plain": [
              "<SparkContext master=local[1] appName=LR1_Apache_Spark>"
            ],
            "text/html": [
              "\n",
              "        <div>\n",
              "            <p><b>SparkContext</b></p>\n",
              "\n",
              "            <p><a href=\"http://35e8242a7921:4040\">Spark UI</a></p>\n",
              "\n",
              "            <dl>\n",
              "              <dt>Version</dt>\n",
              "                <dd><code>v3.5.1</code></dd>\n",
              "              <dt>Master</dt>\n",
              "                <dd><code>local[1]</code></dd>\n",
              "              <dt>AppName</dt>\n",
              "                <dd><code>LR1_Apache_Spark</code></dd>\n",
              "            </dl>\n",
              "        </div>\n",
              "        "
            ]
          },
          "metadata": {},
          "execution_count": 22
        }
      ]
    },
    {
      "cell_type": "code",
      "source": [
        "def initStation(stations):\n",
        "    class Station(NamedTuple):\n",
        "        station_id: int\n",
        "        name: str\n",
        "        lat: float\n",
        "        long: float\n",
        "        dockcount: int\n",
        "        landmark: str\n",
        "        installation: str\n",
        "\n",
        "    for station in stations:\n",
        "        yield Station(\n",
        "            station_id = int(station[0]),\n",
        "            name = station[1],\n",
        "            lat = float(station[2]),\n",
        "            long = float(station[3]),\n",
        "            dockcount = int(station[4]),\n",
        "            landmark = station[5],\n",
        "            installation = datetime.strptime(station[6], '%m/%d/%Y')\n",
        "        )\n",
        "\n",
        "def initTrip(trips):\n",
        "    class Trip(NamedTuple):\n",
        "        trip_id: int\n",
        "        duration: int\n",
        "        start_date: datetime\n",
        "        start_station_name: str\n",
        "        start_station_id: int\n",
        "        end_date: datetime\n",
        "        end_station_name: str\n",
        "        end_station_id: int\n",
        "        bike_id: int\n",
        "        subscription_type: str\n",
        "        zip_code: str\n",
        "\n",
        "    for trip in trips:\n",
        "        try:\n",
        "            yield Trip(\n",
        "             trip_id = int(trip[0]),\n",
        "             duration = int(trip[1]),\n",
        "             start_date = datetime.strptime(trip[2], '%m/%d/%Y %H:%M'),\n",
        "             start_station_name = trip[3],\n",
        "             start_station_id = int(trip[4]),\n",
        "             end_date = datetime.strptime(trip[5], '%m/%d/%Y %H:%M'),\n",
        "             end_station_name = trip[6],\n",
        "             end_station_id = trip[7],\n",
        "             bike_id = int(trip[8]),\n",
        "             subscription_type = trip[9],\n",
        "             zip_code = trip[10]\n",
        "            )\n",
        "        except:\n",
        "            pass"
      ],
      "metadata": {
        "id": "xIVxZwuSaYQE"
      },
      "execution_count": 24,
      "outputs": []
    },
    {
      "cell_type": "code",
      "source": [
        "trip_data = sc.textFile(\"trips.csv\")\n",
        "tripsHeader = trip_data.first()\n",
        "trips = trip_data.filter(lambda row: row != tripsHeader).map(lambda row: row.split(\",\", -1))\n",
        "stationData = sc.textFile(\"stations.csv\")\n",
        "stationsHeader = stationData.first()\n",
        "stations = stationData.filter(lambda row: row != stationsHeader).map(lambda row: row.split(\",\", -1))"
      ],
      "metadata": {
        "id": "bbfw-I_Oaf1O"
      },
      "execution_count": 41,
      "outputs": []
    },
    {
      "cell_type": "code",
      "source": [
        "stationsIndexed = stations.keyBy(lambda station: station[0])"
      ],
      "metadata": {
        "id": "29fw2yxxbBXG"
      },
      "execution_count": 39,
      "outputs": []
    },
    {
      "cell_type": "code",
      "source": [
        "stationsIndexed.take(2)"
      ],
      "metadata": {
        "colab": {
          "base_uri": "https://localhost:8080/"
        },
        "id": "kQCI_4s_brCv",
        "outputId": "8004e091-6e80-438a-e27e-02de3ed6573b"
      },
      "execution_count": 40,
      "outputs": [
        {
          "output_type": "execute_result",
          "data": {
            "text/plain": [
              "[('2',\n",
              "  ['2',\n",
              "   'San Jose Diridon Caltrain Station',\n",
              "   '37.329732',\n",
              "   '-121.90178200000001',\n",
              "   '27',\n",
              "   'San Jose',\n",
              "   '8/6/2013']),\n",
              " ('3',\n",
              "  ['3',\n",
              "   'San Jose Civic Center',\n",
              "   '37.330698',\n",
              "   '-121.888979',\n",
              "   '15',\n",
              "   'San Jose',\n",
              "   '8/5/2013'])]"
            ]
          },
          "metadata": {},
          "execution_count": 40
        }
      ]
    },
    {
      "cell_type": "code",
      "source": [
        "tripsByStartTerminals = trips.keyBy(lambda trip: trip[4])\n",
        "tripsByEndTerminals = trips.keyBy(lambda trip: trip[7])"
      ],
      "metadata": {
        "id": "9Mo3VDcIb9tu"
      },
      "execution_count": 46,
      "outputs": []
    },
    {
      "cell_type": "code",
      "source": [
        "tripsByStartTerminals.take(2)"
      ],
      "metadata": {
        "colab": {
          "base_uri": "https://localhost:8080/"
        },
        "id": "D9zHPykUmPcH",
        "outputId": "ec7ed375-117e-45d2-ca16-ed3eb8f8a164"
      },
      "execution_count": 47,
      "outputs": [
        {
          "output_type": "execute_result",
          "data": {
            "text/plain": [
              "[('66',\n",
              "  ['4576',\n",
              "   '63',\n",
              "   '',\n",
              "   'South Van Ness at Market',\n",
              "   '66',\n",
              "   '8/29/2013 14:14',\n",
              "   'South Van Ness at Market',\n",
              "   '66',\n",
              "   '520',\n",
              "   'Subscriber',\n",
              "   '94127']),\n",
              " ('10',\n",
              "  ['4607',\n",
              "   '',\n",
              "   '8/29/2013 14:42',\n",
              "   'San Jose City Hall',\n",
              "   '10',\n",
              "   '8/29/2013 14:43',\n",
              "   'San Jose City Hall',\n",
              "   '10',\n",
              "   '661',\n",
              "   'Subscriber',\n",
              "   '95138'])]"
            ]
          },
          "metadata": {},
          "execution_count": 47
        }
      ]
    },
    {
      "cell_type": "code",
      "source": [
        "tripsByEndTerminals.take(2)"
      ],
      "metadata": {
        "colab": {
          "base_uri": "https://localhost:8080/"
        },
        "id": "TIrDEa6cmyGj",
        "outputId": "873190b8-9d56-4f8b-ee0e-dd7240cd6ff6"
      },
      "execution_count": 34,
      "outputs": [
        {
          "output_type": "execute_result",
          "data": {
            "text/plain": [
              "[('66',\n",
              "  ['4576',\n",
              "   '63',\n",
              "   '',\n",
              "   'South Van Ness at Market',\n",
              "   '66',\n",
              "   '8/29/2013 14:14',\n",
              "   'South Van Ness at Market',\n",
              "   '66',\n",
              "   '520',\n",
              "   'Subscriber',\n",
              "   '94127']),\n",
              " ('10',\n",
              "  ['4607',\n",
              "   '',\n",
              "   '8/29/2013 14:42',\n",
              "   'San Jose City Hall',\n",
              "   '10',\n",
              "   '8/29/2013 14:43',\n",
              "   'San Jose City Hall',\n",
              "   '10',\n",
              "   '661',\n",
              "   'Subscriber',\n",
              "   '95138'])]"
            ]
          },
          "metadata": {},
          "execution_count": 34
        }
      ]
    },
    {
      "cell_type": "code",
      "source": [
        "stations_mapped = stations.mapPartitions(initStation)"
      ],
      "metadata": {
        "id": "gItmXHzYo5V7"
      },
      "execution_count": 50,
      "outputs": []
    },
    {
      "cell_type": "code",
      "source": [
        "trips_mapped= trips.mapPartitions(initTrip)"
      ],
      "metadata": {
        "id": "Hu1_1UCvo6Wp"
      },
      "execution_count": 51,
      "outputs": []
    },
    {
      "cell_type": "markdown",
      "source": [
        "##Задание 1. Найти велосипед с максимальным временем пробега"
      ],
      "metadata": {
        "id": "nYhnhNPWoD38"
      }
    },
    {
      "cell_type": "code",
      "source": [
        "bike_max_mileage = trips_mapped.keyBy(lambda x: x.bike_id)\n",
        "bike_duration = bike_max_mileage.mapValues(lambda x: x.duration).reduceByKey(lambda x1, x2: x1 + x2)\n",
        "bike_duration_top = bike_duration.top(1, key=lambda x: x[1])[0][0]\n",
        "bike_duration_top\n",
        "\n",
        "print(f\"Bike #{bike_duration_top} has max trips duration\")"
      ],
      "metadata": {
        "colab": {
          "base_uri": "https://localhost:8080/"
        },
        "id": "bc0DPwXyoDBU",
        "outputId": "7c803d63-6073-4541-9dc7-c871b19c52be"
      },
      "execution_count": 52,
      "outputs": [
        {
          "output_type": "stream",
          "name": "stdout",
          "text": [
            "Bike #535 has max trips duration\n"
          ]
        }
      ]
    },
    {
      "cell_type": "markdown",
      "source": [
        "## Задание 2. Найти наибольшее геодезическое расстояние между станциями\n"
      ],
      "metadata": {
        "id": "q4K9aANDp5yt"
      }
    },
    {
      "cell_type": "code",
      "source": [
        "trips_stations = trips_mapped.filter(lambda trip: str(trip.start_station_id) != str(trip.end_station_id))\\\n",
        "                             .keyBy(lambda trip: (trip.start_station_id, trip.end_station_id))\\\n",
        "                             .mapValues(lambda trip: trip.duration)"
      ],
      "metadata": {
        "id": "kDKmApJZp60Y"
      },
      "execution_count": 61,
      "outputs": []
    },
    {
      "cell_type": "code",
      "source": [
        "query = trips_stations\\\n",
        "    .aggregateByKey(\n",
        "        (0.0, 0.0),\n",
        "        lambda acc, value: (acc[0] + value, acc[1] + 1),\n",
        "        lambda acc1, acc2: (acc1[0] + acc2[0], acc1[1] + acc2[1]),)\\\n",
        "    .mapValues(lambda values: values[0] / values[1])\n",
        "\n",
        "query.map(lambda x: x[::-1]).top(5)\n",
        "\n"
      ],
      "metadata": {
        "colab": {
          "base_uri": "https://localhost:8080/"
        },
        "id": "IsdcIDfNqDHC",
        "outputId": "e17b7d4f-7ccb-4933-9cf0-6fd44ddcaf55"
      },
      "execution_count": 62,
      "outputs": [
        {
          "output_type": "execute_result",
          "data": {
            "text/plain": [
              "[(229914.0, (26, '16')),\n",
              " (179212.5, (32, '63')),\n",
              " (169308.0, (80, '36')),\n",
              " (156461.03603603604, (66, '62')),\n",
              " (101207.5, (28, '2'))]"
            ]
          },
          "metadata": {},
          "execution_count": 62
        }
      ]
    },
    {
      "cell_type": "markdown",
      "source": [
        "##Задание 3. Найти путь велосипеда с максимальным временем пробега через станции"
      ],
      "metadata": {
        "id": "_6mFK_ojqtmI"
      }
    },
    {
      "cell_type": "code",
      "source": [
        "bike_path = trips_mapped.filter(lambda x: x.bike_id == bike_duration_top)\\\n",
        "                        .sortBy(lambda x: x.start_date)\\\n",
        "                        .map(lambda x: (x.start_station_name, x.end_station_name))\n",
        "\n",
        "bike_path.first()"
      ],
      "metadata": {
        "colab": {
          "base_uri": "https://localhost:8080/"
        },
        "id": "jiHaw40wqvQN",
        "outputId": "60124d78-5773-416f-c252-1eadaa776dac"
      },
      "execution_count": 63,
      "outputs": [
        {
          "output_type": "execute_result",
          "data": {
            "text/plain": [
              "('Post at Kearney', 'San Francisco Caltrain (Townsend at 4th)')"
            ]
          },
          "metadata": {},
          "execution_count": 63
        }
      ]
    },
    {
      "cell_type": "markdown",
      "source": [
        "## Задаие 4. Найти количество велосипедов в системе."
      ],
      "metadata": {
        "id": "1j9X7dGpqypA"
      }
    },
    {
      "cell_type": "code",
      "source": [
        "count_bikes = trips_mapped.map(lambda x: x.bike_id).distinct().count()\n",
        "count_bikes"
      ],
      "metadata": {
        "colab": {
          "base_uri": "https://localhost:8080/"
        },
        "id": "Ja2LNpf1q2Ev",
        "outputId": "7a36f24f-6a64-4ae4-c594-d776de7310cd"
      },
      "execution_count": 64,
      "outputs": [
        {
          "output_type": "execute_result",
          "data": {
            "text/plain": [
              "700"
            ]
          },
          "metadata": {},
          "execution_count": 64
        }
      ]
    },
    {
      "cell_type": "markdown",
      "source": [
        "## Задание 5. Найти пользователей потративших на поездки более 3 часов."
      ],
      "metadata": {
        "id": "JVuvdR_2q4DQ"
      }
    },
    {
      "cell_type": "code",
      "source": [
        "users = trips_mapped.filter(lambda x: x.duration > (3 * 60 * 60))\\\n",
        "                    .map(lambda x: x.zip_code)\\\n",
        "                    .filter(lambda x: x != \"\")\\\n",
        "                    .distinct()\n",
        "users.take(10)"
      ],
      "metadata": {
        "colab": {
          "base_uri": "https://localhost:8080/"
        },
        "id": "EcjaGJQOq3rF",
        "outputId": "88ac572e-524c-442c-e9be-1f8f6927f169"
      },
      "execution_count": 65,
      "outputs": [
        {
          "output_type": "execute_result",
          "data": {
            "text/plain": [
              "['58553',\n",
              " '94301',\n",
              " '94039',\n",
              " '94133',\n",
              " '93726',\n",
              " '94123',\n",
              " '4517',\n",
              " '29200',\n",
              " '45322',\n",
              " '94080']"
            ]
          },
          "metadata": {},
          "execution_count": 65
        }
      ]
    },
    {
      "cell_type": "code",
      "source": [
        "sc.stop()"
      ],
      "metadata": {
        "id": "nPAbWyhomPG_"
      },
      "execution_count": 66,
      "outputs": []
    }
  ]
}