{
  "nbformat": 4,
  "nbformat_minor": 0,
  "metadata": {
    "colab": {
      "provenance": [],
      "collapsed_sections": [
        "QtTFyqke3KGe",
        "kNKYIeerx0nY",
        "h-jRAcYCAkkk",
        "gCJGx8IQ87xS"
      ]
    },
    "kernelspec": {
      "name": "python3",
      "display_name": "Python 3"
    }
  },
  "cells": [
    {
      "cell_type": "markdown",
      "metadata": {
        "id": "82OvPKEiEqjc"
      },
      "source": [
        "# Введение в MapReduce модель на Python\n"
      ]
    },
    {
      "cell_type": "code",
      "metadata": {
        "id": "JQ2cvXLjICmI"
      },
      "source": [
        "from typing import NamedTuple # requires python 3.6+\n",
        "from typing import Iterator"
      ],
      "execution_count": 1,
      "outputs": []
    },
    {
      "cell_type": "code",
      "metadata": {
        "id": "yjPHumVwEyEg"
      },
      "source": [
        "def MAP(_, row:NamedTuple):\n",
        "  if (row.gender == 'female'):\n",
        "    yield (row.age, row)\n",
        "\n",
        "def REDUCE(age:str, rows:Iterator[NamedTuple]):\n",
        "  sum = 0\n",
        "  count = 0\n",
        "  for row in rows:\n",
        "    sum += row.social_contacts\n",
        "    count += 1\n",
        "  if (count > 0):\n",
        "    yield (age, sum/count)\n",
        "  else:\n",
        "    yield (age, 0)"
      ],
      "execution_count": 2,
      "outputs": []
    },
    {
      "cell_type": "markdown",
      "metadata": {
        "id": "vBKMgpG_ilaZ"
      },
      "source": [
        "Модель элемента данных"
      ]
    },
    {
      "cell_type": "code",
      "metadata": {
        "id": "Rv-XIjhTJPx3"
      },
      "source": [
        "class User(NamedTuple):\n",
        "  id: int\n",
        "  age: str\n",
        "  social_contacts: int\n",
        "  gender: str"
      ],
      "execution_count": 3,
      "outputs": []
    },
    {
      "cell_type": "code",
      "metadata": {
        "id": "5KV0Ze2vQgu5"
      },
      "source": [
        "input_collection = [\n",
        "    User(id=0, age=55, gender='male', social_contacts=20),\n",
        "    User(id=1, age=25, gender='female', social_contacts=540),\n",
        "    User(id=2, age=25, gender='female', social_contacts=500),\n",
        "    User(id=3, age=33, gender='female', social_contacts=800)\n",
        "]"
      ],
      "execution_count": 4,
      "outputs": []
    },
    {
      "cell_type": "markdown",
      "metadata": {
        "id": "YFeqzyZxZIFZ"
      },
      "source": [
        "Функция RECORDREADER моделирует чтение элементов с диска или по сети."
      ]
    },
    {
      "cell_type": "code",
      "metadata": {
        "id": "S5HR4E_GQoMJ"
      },
      "source": [
        "def RECORDREADER():\n",
        "  return [(u.id, u) for u in input_collection]"
      ],
      "execution_count": 5,
      "outputs": []
    },
    {
      "cell_type": "code",
      "metadata": {
        "id": "NeEoWla-ROUy",
        "colab": {
          "base_uri": "https://localhost:8080/"
        },
        "outputId": "bbf68543-2d0d-44ba-f4cd-0e9be30e33c4"
      },
      "source": [
        "list(RECORDREADER())"
      ],
      "execution_count": 6,
      "outputs": [
        {
          "output_type": "execute_result",
          "data": {
            "text/plain": [
              "[(0, User(id=0, age=55, social_contacts=20, gender='male')),\n",
              " (1, User(id=1, age=25, social_contacts=540, gender='female')),\n",
              " (2, User(id=2, age=25, social_contacts=500, gender='female')),\n",
              " (3, User(id=3, age=33, social_contacts=800, gender='female'))]"
            ]
          },
          "metadata": {},
          "execution_count": 6
        }
      ]
    },
    {
      "cell_type": "code",
      "metadata": {
        "id": "YB8orgPSZs8M"
      },
      "source": [
        "def flatten(nested_iterable):\n",
        "  for iterable in nested_iterable:\n",
        "    for element in iterable:\n",
        "      yield element"
      ],
      "execution_count": 7,
      "outputs": []
    },
    {
      "cell_type": "code",
      "metadata": {
        "id": "74oyvDLaRmd5",
        "colab": {
          "base_uri": "https://localhost:8080/"
        },
        "outputId": "9c93dc91-108d-4df7-eac1-24e49b0d24bd"
      },
      "source": [
        "map_output = flatten(map(lambda x: MAP(*x), RECORDREADER()))\n",
        "map_output = list(map_output) # materialize\n",
        "map_output"
      ],
      "execution_count": 8,
      "outputs": [
        {
          "output_type": "execute_result",
          "data": {
            "text/plain": [
              "[(25, User(id=1, age=25, social_contacts=540, gender='female')),\n",
              " (25, User(id=2, age=25, social_contacts=500, gender='female')),\n",
              " (33, User(id=3, age=33, social_contacts=800, gender='female'))]"
            ]
          },
          "metadata": {},
          "execution_count": 8
        }
      ]
    },
    {
      "cell_type": "code",
      "metadata": {
        "id": "8ncYDJ3-VzDn"
      },
      "source": [
        "\n",
        "# sorted_footballers_by_goals = sorted(footballers_goals.items(), key=lambda x:x[1])\n",
        "\n",
        "def groupbykey(iterable):\n",
        "  t = {}\n",
        "  for (k2, v2) in iterable:\n",
        "    t[k2] = t.get(k2, []) + [v2]\n",
        "  return t.items()\n",
        "\n",
        "\n",
        "def groupbykeysorted(iterable):\n",
        "  t = {}\n",
        "  for (k2, v2) in iterable:\n",
        "    t[k2] = t.get(k2, []) + [v2]\n",
        "\n",
        "  return sorted(t.items(), key=lambda x: x[1])"
      ],
      "execution_count": 9,
      "outputs": []
    },
    {
      "cell_type": "code",
      "metadata": {
        "id": "cKzY_6COWOA2",
        "colab": {
          "base_uri": "https://localhost:8080/"
        },
        "outputId": "da2295b8-a5c8-4168-932f-4a1b986d67f2"
      },
      "source": [
        "shuffle_output = groupbykeysorted(map_output)\n",
        "shuffle_output = list(shuffle_output)\n",
        "shuffle_output"
      ],
      "execution_count": 10,
      "outputs": [
        {
          "output_type": "execute_result",
          "data": {
            "text/plain": [
              "[(25,\n",
              "  [User(id=1, age=25, social_contacts=540, gender='female'),\n",
              "   User(id=2, age=25, social_contacts=500, gender='female')]),\n",
              " (33, [User(id=3, age=33, social_contacts=800, gender='female')])]"
            ]
          },
          "metadata": {},
          "execution_count": 10
        }
      ]
    },
    {
      "cell_type": "code",
      "metadata": {
        "id": "NlA7lkDDYL0t",
        "colab": {
          "base_uri": "https://localhost:8080/"
        },
        "outputId": "badf331c-e81f-4fb0-d1f0-37e4c34a5c70"
      },
      "source": [
        "reduce_output = flatten(map(lambda x: REDUCE(*x), shuffle_output))\n",
        "reduce_output = list(reduce_output)\n",
        "reduce_output"
      ],
      "execution_count": 11,
      "outputs": [
        {
          "output_type": "execute_result",
          "data": {
            "text/plain": [
              "[(25, 520.0), (33, 800.0)]"
            ]
          },
          "metadata": {},
          "execution_count": 11
        }
      ]
    },
    {
      "cell_type": "markdown",
      "metadata": {
        "id": "xf6qhHEtd6bI"
      },
      "source": [
        "Все действия одним конвейером!"
      ]
    },
    {
      "cell_type": "code",
      "metadata": {
        "id": "dZaQGYxCdpw5",
        "colab": {
          "base_uri": "https://localhost:8080/"
        },
        "outputId": "2d664286-03e1-4e3f-a717-a3892eaa088b"
      },
      "source": [
        "list(flatten(map(lambda x: REDUCE(*x), groupbykey(flatten(map(lambda x: MAP(*x), RECORDREADER()))))))"
      ],
      "execution_count": 12,
      "outputs": [
        {
          "output_type": "execute_result",
          "data": {
            "text/plain": [
              "[(25, 520.0), (33, 800.0)]"
            ]
          },
          "metadata": {},
          "execution_count": 12
        }
      ]
    },
    {
      "cell_type": "markdown",
      "metadata": {
        "id": "Vq3EWRIpwSiJ"
      },
      "source": [
        "# **MapReduce**\n",
        "Выделим общую для всех пользователей часть системы в отдельную функцию высшего порядка. Это наиболее простая модель MapReduce, без учёта распределённого хранения данных.\n",
        "\n",
        "Пользователь для решения своей задачи реализует RECORDREADER, MAP, REDUCE."
      ]
    },
    {
      "cell_type": "code",
      "metadata": {
        "id": "V1PZeQMwwVjc"
      },
      "source": [
        "def flatten(nested_iterable):\n",
        "  for iterable in nested_iterable:\n",
        "    for element in iterable:\n",
        "      yield element\n",
        "\n",
        "def groupbykey(iterable):\n",
        "  t = {}\n",
        "  for (k2, v2) in iterable:\n",
        "    t[k2] = t.get(k2, []) + [v2]\n",
        "  return t.items()\n",
        "\n",
        "def groupbykeysorted(iterable):\n",
        "    t = {}\n",
        "    for (k2, v2) in iterable:\n",
        "      t[k2] = t.get(k2, []) + [v2]\n",
        "    print(t.items())\n",
        "    print(sorted(t.items(), key=lambda x: x[1]))\n",
        "    return sorted(t.items(), key=lambda x: x[1])\n",
        "\n",
        "def MapReduce(RECORDREADER, MAP, REDUCE):\n",
        "  return flatten(map(lambda x: REDUCE(*x), groupbykey(flatten(map(lambda x: MAP(*x), RECORDREADER())))))"
      ],
      "execution_count": 13,
      "outputs": []
    },
    {
      "cell_type": "markdown",
      "metadata": {
        "id": "iFIVrimep678"
      },
      "source": [
        "## Спецификация MapReduce\n",
        "\n",
        "\n",
        "\n",
        "```\n",
        "f (k1, v1) -> (k2,v2)*\n",
        "g (k2, v2*) -> (k3,v3)*\n",
        "\n",
        "mapreduce ((k1,v1)*) -> (k3,v3)*\n",
        "groupby ((k2,v2)*) -> (k2,v2*)*\n",
        "flatten (e2**) -> e2*\n",
        "\n",
        "mapreduce .map(f).flatten.groupby(k2).map(g).flatten\n",
        "```\n",
        "\n",
        "\n"
      ]
    },
    {
      "cell_type": "markdown",
      "metadata": {
        "id": "QtTFyqke3KGe"
      },
      "source": [
        "# Примеры"
      ]
    },
    {
      "cell_type": "markdown",
      "metadata": {
        "id": "BNhh5763w5Vn"
      },
      "source": [
        "## SQL"
      ]
    },
    {
      "cell_type": "code",
      "metadata": {
        "id": "QkyurnvGxBGk",
        "colab": {
          "base_uri": "https://localhost:8080/"
        },
        "outputId": "925e17e2-cad0-4e19-bd5e-f11ed33d5de2"
      },
      "source": [
        "from typing import NamedTuple # requires python 3.6+\n",
        "from typing import Iterator\n",
        "\n",
        "class User(NamedTuple):\n",
        "  id: int\n",
        "  age: str\n",
        "  social_contacts: int\n",
        "  gender: str\n",
        "\n",
        "input_collection = [\n",
        "    User(id=0, age=55, gender='male', social_contacts=20),\n",
        "    User(id=1, age=25, gender='female', social_contacts=240),\n",
        "    User(id=2, age=25, gender='female', social_contacts=500),\n",
        "    User(id=3, age=33, gender='female', social_contacts=800)\n",
        "]\n",
        "\n",
        "def MAP(_, row:NamedTuple):\n",
        "  if (row.gender == 'female'):\n",
        "    yield (row.age, row)\n",
        "\n",
        "def REDUCE(age:str, rows:Iterator[NamedTuple]):\n",
        "  sum = 0\n",
        "  count = 0\n",
        "  for row in rows:\n",
        "    sum += row.social_contacts\n",
        "    count += 1\n",
        "  if (count > 0):\n",
        "    yield (age, sum/count)\n",
        "  else:\n",
        "    yield (age, 0)\n",
        "\n",
        "def RECORDREADER():\n",
        "  return [(u.id, u) for u in input_collection]\n",
        "\n",
        "output = MapReduce(RECORDREADER, MAP, REDUCE)\n",
        "output = list(output)\n",
        "output"
      ],
      "execution_count": 14,
      "outputs": [
        {
          "output_type": "execute_result",
          "data": {
            "text/plain": [
              "[(25, 370.0), (33, 800.0)]"
            ]
          },
          "metadata": {},
          "execution_count": 14
        }
      ]
    },
    {
      "cell_type": "code",
      "source": [
        "import numpy as np\n",
        "\n",
        "mat = np.ones((5,4))\n",
        "\n",
        "def RECORDREADER():\n",
        "  for i in range(mat.shape[0]):\n",
        "    for j in range(mat.shape[1]):\n",
        "      yield ((i, j), mat[i,j])\n",
        "list(RECORDREADER())"
      ],
      "metadata": {
        "colab": {
          "base_uri": "https://localhost:8080/"
        },
        "id": "KmzTCO1MPeaw",
        "outputId": "8e1ec1d6-0edd-4a63-8da6-2a8637505a9b"
      },
      "execution_count": 15,
      "outputs": [
        {
          "output_type": "execute_result",
          "data": {
            "text/plain": [
              "[((0, 0), 1.0),\n",
              " ((0, 1), 1.0),\n",
              " ((0, 2), 1.0),\n",
              " ((0, 3), 1.0),\n",
              " ((1, 0), 1.0),\n",
              " ((1, 1), 1.0),\n",
              " ((1, 2), 1.0),\n",
              " ((1, 3), 1.0),\n",
              " ((2, 0), 1.0),\n",
              " ((2, 1), 1.0),\n",
              " ((2, 2), 1.0),\n",
              " ((2, 3), 1.0),\n",
              " ((3, 0), 1.0),\n",
              " ((3, 1), 1.0),\n",
              " ((3, 2), 1.0),\n",
              " ((3, 3), 1.0),\n",
              " ((4, 0), 1.0),\n",
              " ((4, 1), 1.0),\n",
              " ((4, 2), 1.0),\n",
              " ((4, 3), 1.0)]"
            ]
          },
          "metadata": {},
          "execution_count": 15
        }
      ]
    },
    {
      "cell_type": "markdown",
      "metadata": {
        "id": "kNKYIeerx0nY"
      },
      "source": [
        "## Matrix-Vector multiplication"
      ]
    },
    {
      "cell_type": "code",
      "metadata": {
        "id": "rwcntRcCyi1V",
        "colab": {
          "base_uri": "https://localhost:8080/"
        },
        "outputId": "9e8c5d75-ee45-4469-9240-f30ef866cb5f"
      },
      "source": [
        "from typing import Iterator\n",
        "import numpy as np\n",
        "\n",
        "mat = np.ones((5,4))\n",
        "vec = np.random.rand(4) # in-memory vector in all map tasks\n",
        "\n",
        "def MAP(coordinates:(int, int), value:int):\n",
        "  i, j = coordinates\n",
        "  yield (i, value*vec[j])\n",
        "\n",
        "def REDUCE(i:int, products:Iterator[NamedTuple]):\n",
        "  sum = 0\n",
        "  for p in products:\n",
        "    sum += p\n",
        "  yield (i, sum)\n",
        "\n",
        "def RECORDREADER():\n",
        "  for i in range(mat.shape[0]):\n",
        "    for j in range(mat.shape[1]):\n",
        "      yield ((i, j), mat[i,j])\n",
        "\n",
        "output = MapReduce(RECORDREADER, MAP, REDUCE)\n",
        "output = list(output)\n",
        "output"
      ],
      "execution_count": 16,
      "outputs": [
        {
          "output_type": "execute_result",
          "data": {
            "text/plain": [
              "[(0, 1.6475854298061372),\n",
              " (1, 1.6475854298061372),\n",
              " (2, 1.6475854298061372),\n",
              " (3, 1.6475854298061372),\n",
              " (4, 1.6475854298061372)]"
            ]
          },
          "metadata": {},
          "execution_count": 16
        }
      ]
    },
    {
      "cell_type": "markdown",
      "metadata": {
        "id": "ruZREYdi2o4O"
      },
      "source": [
        "## Inverted index"
      ]
    },
    {
      "cell_type": "code",
      "metadata": {
        "id": "vt9H9Alf3TYv",
        "colab": {
          "base_uri": "https://localhost:8080/"
        },
        "outputId": "bf8181db-f001-4bc5-c0a2-9e0ea9187546"
      },
      "source": [
        "from typing import Iterator\n",
        "\n",
        "d1 = \"it is what it is\"\n",
        "d2 = \"what is it\"\n",
        "d3 = \"it is a banana\"\n",
        "documents = [d1, d2, d3]\n",
        "\n",
        "def RECORDREADER():\n",
        "  for (docid, document) in enumerate(documents):\n",
        "    yield (\"{}\".format(docid), document)\n",
        "\n",
        "def MAP(docId:str, body:str):\n",
        "  for word in set(body.split(' ')):\n",
        "    yield (word, docId)\n",
        "\n",
        "def REDUCE(word:str, docIds:Iterator[str]):\n",
        "  yield (word, sorted(docIds))\n",
        "\n",
        "output = MapReduce(RECORDREADER, MAP, REDUCE)\n",
        "output = list(output)\n",
        "output"
      ],
      "execution_count": 17,
      "outputs": [
        {
          "output_type": "execute_result",
          "data": {
            "text/plain": [
              "[('is', ['0', '1', '2']),\n",
              " ('what', ['0', '1']),\n",
              " ('it', ['0', '1', '2']),\n",
              " ('a', ['2']),\n",
              " ('banana', ['2'])]"
            ]
          },
          "metadata": {},
          "execution_count": 17
        }
      ]
    },
    {
      "cell_type": "markdown",
      "metadata": {
        "id": "R7az-6DA6qr2"
      },
      "source": [
        "## WordCount"
      ]
    },
    {
      "cell_type": "code",
      "metadata": {
        "id": "dN-nbtgG6uYG",
        "colab": {
          "base_uri": "https://localhost:8080/"
        },
        "outputId": "c809fe10-413b-4cc0-d49d-7a99c3661a90"
      },
      "source": [
        "from typing import Iterator\n",
        "\n",
        "d1 = \"\"\"\n",
        "it is what it is\n",
        "it is what it is\n",
        "it is what it is\"\"\"\n",
        "d2 = \"\"\"\n",
        "what is it\n",
        "what is it\"\"\"\n",
        "d3 = \"\"\"\n",
        "it is a banana\"\"\"\n",
        "documents = [d1, d2, d3]\n",
        "\n",
        "def RECORDREADER():\n",
        "  for (docid, document) in enumerate(documents):\n",
        "    for (lineid, line) in enumerate(document.split('\\n')):\n",
        "      yield (\"{}:{}\".format(docid,lineid), line)\n",
        "\n",
        "def MAP(docId:str, line:str):\n",
        "  for word in line.split(\" \"):\n",
        "    yield (word, 1)\n",
        "\n",
        "def REDUCE(word:str, counts:Iterator[int]):\n",
        "  sum = 0\n",
        "  for c in counts:\n",
        "    sum += c\n",
        "  yield (word, sum)\n",
        "\n",
        "output = MapReduce(RECORDREADER, MAP, REDUCE)\n",
        "output = list(output)\n",
        "output"
      ],
      "execution_count": 18,
      "outputs": [
        {
          "output_type": "execute_result",
          "data": {
            "text/plain": [
              "[('', 3), ('it', 9), ('is', 9), ('what', 5), ('a', 1), ('banana', 1)]"
            ]
          },
          "metadata": {},
          "execution_count": 18
        }
      ]
    },
    {
      "cell_type": "markdown",
      "metadata": {
        "id": "h-jRAcYCAkkk"
      },
      "source": [
        "# MapReduce Distributed\n",
        "\n",
        "Добавляется в модель фабрика RECORDREARER-ов --- INPUTFORMAT, функция распределения промежуточных результатов по партициям PARTITIONER, и функция COMBINER для частичной аггрегации промежуточных результатов до распределения по новым партициям."
      ]
    },
    {
      "cell_type": "code",
      "metadata": {
        "id": "nw-b-xJsApgW"
      },
      "source": [
        "def flatten(nested_iterable):\n",
        "  for iterable in nested_iterable:\n",
        "    for element in iterable:\n",
        "      yield element\n",
        "\n",
        "def groupbykey(iterable):\n",
        "  t = {}\n",
        "  for (k2, v2) in iterable:\n",
        "    t[k2] = t.get(k2, []) + [v2]\n",
        "  return t.items()\n",
        "\n",
        "def groupbykey_distributed(map_partitions, PARTITIONER):\n",
        "  global reducers\n",
        "  partitions = [dict() for _ in range(reducers)]\n",
        "  for map_partition in map_partitions:\n",
        "    for (k2, v2) in map_partition:\n",
        "      p = partitions[PARTITIONER(k2)]\n",
        "      p[k2] = p.get(k2, []) + [v2]\n",
        "  return [(partition_id, sorted(partition.items(), key=lambda x: x[0])) for (partition_id, partition) in enumerate(partitions)]\n",
        "\n",
        "def PARTITIONER(obj):\n",
        "  global reducers\n",
        "  return hash(obj) % reducers\n",
        "\n",
        "def MapReduceDistributed(INPUTFORMAT, MAP, REDUCE, PARTITIONER=PARTITIONER, COMBINER=None):\n",
        "  map_partitions = map(lambda record_reader: flatten(map(lambda k1v1: MAP(*k1v1), record_reader)), INPUTFORMAT())\n",
        "  if COMBINER != None:\n",
        "    map_partitions = map(lambda map_partition: flatten(map(lambda k2v2: COMBINER(*k2v2), groupbykey(map_partition))), map_partitions)\n",
        "  reduce_partitions = groupbykey_distributed(map_partitions, PARTITIONER) # shuffle\n",
        "  reduce_outputs = map(lambda reduce_partition: (reduce_partition[0], flatten(map(lambda reduce_input_group: REDUCE(*reduce_input_group), reduce_partition[1]))), reduce_partitions)\n",
        "\n",
        "  print(\"{} key-value pairs were sent over a network.\".format(sum([len(vs) for (k,vs) in flatten([partition for (partition_id, partition) in reduce_partitions])])))\n",
        "  return reduce_outputs"
      ],
      "execution_count": 19,
      "outputs": []
    },
    {
      "cell_type": "code",
      "source": [
        "reducers = 2\n",
        "partitions = [dict() for _ in range(reducers)]\n",
        "partitions"
      ],
      "metadata": {
        "colab": {
          "base_uri": "https://localhost:8080/"
        },
        "id": "gc_dOEs-bwok",
        "outputId": "0fc7e750-3074-4b43-b9a7-42319a2b8434"
      },
      "execution_count": 20,
      "outputs": [
        {
          "output_type": "execute_result",
          "data": {
            "text/plain": [
              "[{}, {}]"
            ]
          },
          "metadata": {},
          "execution_count": 20
        }
      ]
    },
    {
      "cell_type": "markdown",
      "metadata": {
        "id": "kxirlf3XqZxY"
      },
      "source": [
        "## Спецификация MapReduce Distributed\n",
        "\n",
        "\n",
        "```\n",
        "f (k1, v1) -> (k2,v2)*\n",
        "g (k2, v2*) -> (k3,v3)*\n",
        "\n",
        "e1 (k1, v1)\n",
        "e2 (k2, v2)\n",
        "partition1 (k2, v2)*\n",
        "partition2 (k2, v2*)*\n",
        "\n",
        "flatmap (e1->e2*, e1*) -> partition1*\n",
        "groupby (partition1*) -> partition2*\n",
        "\n",
        "mapreduce ((k1,v1)*) -> (k3,v3)*\n",
        "mapreduce .flatmap(f).groupby(k2).flatmap(g)\n",
        "```\n",
        "\n"
      ]
    },
    {
      "cell_type": "markdown",
      "metadata": {
        "id": "CWYw_CpbbY3C"
      },
      "source": [
        "## WordCount"
      ]
    },
    {
      "cell_type": "code",
      "metadata": {
        "id": "uR_zfGFkMZlp",
        "colab": {
          "base_uri": "https://localhost:8080/"
        },
        "outputId": "f94990ea-8d0e-4b45-cf59-a349b382728b"
      },
      "source": [
        "from typing import Iterator\n",
        "import numpy as np\n",
        "\n",
        "d1 = \"\"\"\n",
        "it is what it is\n",
        "it is what it is\n",
        "it is what it is\"\"\"\n",
        "d2 = \"\"\"\n",
        "what is it\n",
        "what is it\"\"\"\n",
        "d3 = \"\"\"\n",
        "it is a banana\"\"\"\n",
        "documents = [d1, d2, d3, d1, d2, d3]\n",
        "\n",
        "maps = 3\n",
        "reducers = 2\n",
        "\n",
        "def INPUTFORMAT():\n",
        "  global maps\n",
        "\n",
        "  def RECORDREADER(split):\n",
        "    for (docid, document) in enumerate(split):\n",
        "      for (lineid, line) in enumerate(document.split('\\n')):\n",
        "        yield (\"{}:{}\".format(docid,lineid), line)\n",
        "\n",
        "  split_size =  int(np.ceil(len(documents)/maps))\n",
        "  for i in range(0, len(documents), split_size):\n",
        "    yield RECORDREADER(documents[i:i+split_size])\n",
        "\n",
        "def MAP(docId:str, line:str):\n",
        "  for word in line.split(\" \"):\n",
        "    yield (word, 1)\n",
        "\n",
        "def REDUCE(word:str, counts:Iterator[int]):\n",
        "  sum = 0\n",
        "  for c in counts:\n",
        "    sum += c\n",
        "  yield (word, sum)\n",
        "\n",
        "# try to set COMBINER=REDUCER and look at the number of values sent over the network\n",
        "partitioned_output = MapReduceDistributed(INPUTFORMAT, MAP, REDUCE, COMBINER=None)\n",
        "partitioned_output = [(partition_id, list(partition)) for (partition_id, partition) in partitioned_output]\n",
        "partitioned_output"
      ],
      "execution_count": 21,
      "outputs": [
        {
          "output_type": "stream",
          "name": "stdout",
          "text": [
            "56 key-value pairs were sent over a network.\n"
          ]
        },
        {
          "output_type": "execute_result",
          "data": {
            "text/plain": [
              "[(0, [('', 6), ('is', 18), ('what', 10)]),\n",
              " (1, [('a', 2), ('banana', 2), ('it', 18)])]"
            ]
          },
          "metadata": {},
          "execution_count": 21
        }
      ]
    },
    {
      "cell_type": "code",
      "source": [
        "def INPUTFORMAT():\n",
        "  global maps\n",
        "\n",
        "  def RECORDREADER(split):\n",
        "    for (docid, document) in enumerate(split):\n",
        "      for (lineid, line) in enumerate(document.split('\\n')):\n",
        "        yield (\"{}:{}\".format(docid,lineid), line)\n",
        "\n",
        "  split_size =  int(np.ceil(len(documents)/maps))\n",
        "  for i in range(0, len(documents), split_size):\n",
        "    yield RECORDREADER(documents[i:i+split_size])\n",
        "a = INPUTFORMAT()\n",
        "for i in a:\n",
        "  for j in i:\n",
        "    print(j)"
      ],
      "metadata": {
        "colab": {
          "base_uri": "https://localhost:8080/"
        },
        "id": "PrSng_OgeZXU",
        "outputId": "bcfc9abd-eab4-46c1-8e52-31f2087a314c"
      },
      "execution_count": 22,
      "outputs": [
        {
          "output_type": "stream",
          "name": "stdout",
          "text": [
            "('0:0', '')\n",
            "('0:1', 'it is what it is')\n",
            "('0:2', 'it is what it is')\n",
            "('0:3', 'it is what it is')\n",
            "('1:0', '')\n",
            "('1:1', 'what is it')\n",
            "('1:2', 'what is it')\n",
            "('0:0', '')\n",
            "('0:1', 'it is a banana')\n",
            "('1:0', '')\n",
            "('1:1', 'it is what it is')\n",
            "('1:2', 'it is what it is')\n",
            "('1:3', 'it is what it is')\n",
            "('0:0', '')\n",
            "('0:1', 'what is it')\n",
            "('0:2', 'what is it')\n",
            "('1:0', '')\n",
            "('1:1', 'it is a banana')\n"
          ]
        }
      ]
    },
    {
      "cell_type": "markdown",
      "metadata": {
        "id": "gCJGx8IQ87xS"
      },
      "source": [
        "## TeraSort"
      ]
    },
    {
      "cell_type": "code",
      "metadata": {
        "id": "P2v8v1v_8_YR",
        "colab": {
          "base_uri": "https://localhost:8080/"
        },
        "outputId": "f7b55457-053f-4fc2-f204-a653f9c9635d"
      },
      "source": [
        "import numpy as np\n",
        "\n",
        "input_values = np.random.rand(30)\n",
        "maps = 3\n",
        "reducers = 2\n",
        "min_value = 0.0\n",
        "max_value = 1.0\n",
        "\n",
        "def INPUTFORMAT():\n",
        "  global maps\n",
        "\n",
        "  def RECORDREADER(split):\n",
        "    for value in split:\n",
        "        yield (value, None)\n",
        "\n",
        "  split_size =  int(np.ceil(len(input_values)/maps))\n",
        "  for i in range(0, len(input_values), split_size):\n",
        "    yield RECORDREADER(input_values[i:i+split_size])\n",
        "\n",
        "def MAP(value:int, _):\n",
        "  yield (value, None)\n",
        "\n",
        "def PARTITIONER(key):\n",
        "  global reducers\n",
        "  global max_value\n",
        "  global min_value\n",
        "  bucket_size = (max_value-min_value)/reducers\n",
        "  bucket_id = 0\n",
        "  while((key>(bucket_id+1)*bucket_size) and ((bucket_id+1)*bucket_size<max_value)):\n",
        "    bucket_id += 1\n",
        "  return bucket_id\n",
        "\n",
        "def REDUCE(value:int, _):\n",
        "  yield (None,value)\n",
        "\n",
        "partitioned_output = MapReduceDistributed(INPUTFORMAT, MAP, REDUCE, COMBINER=None, PARTITIONER=PARTITIONER)\n",
        "partitioned_output = [(partition_id, list(partition)) for (partition_id, partition) in partitioned_output]\n",
        "partitioned_output"
      ],
      "execution_count": 23,
      "outputs": [
        {
          "output_type": "stream",
          "name": "stdout",
          "text": [
            "30 key-value pairs were sent over a network.\n"
          ]
        },
        {
          "output_type": "execute_result",
          "data": {
            "text/plain": [
              "[(0,\n",
              "  [(None, 0.012823833699781018),\n",
              "   (None, 0.016140267024319144),\n",
              "   (None, 0.03896626133023473),\n",
              "   (None, 0.055576389820330974),\n",
              "   (None, 0.06893784933776093),\n",
              "   (None, 0.09880228139548264),\n",
              "   (None, 0.12091177194522384),\n",
              "   (None, 0.1265649010150045),\n",
              "   (None, 0.24329960481575852),\n",
              "   (None, 0.26436536109938924),\n",
              "   (None, 0.36611261450012833),\n",
              "   (None, 0.3721858818295314),\n",
              "   (None, 0.37490462905837174),\n",
              "   (None, 0.4358468820179905),\n",
              "   (None, 0.4867120222294503)]),\n",
              " (1,\n",
              "  [(None, 0.5331332430227432),\n",
              "   (None, 0.548068805371801),\n",
              "   (None, 0.6577206397478143),\n",
              "   (None, 0.6732589952926867),\n",
              "   (None, 0.6737470129329141),\n",
              "   (None, 0.6752830217480272),\n",
              "   (None, 0.7198042395988212),\n",
              "   (None, 0.7536060168205901),\n",
              "   (None, 0.8100952270659402),\n",
              "   (None, 0.8268163417727177),\n",
              "   (None, 0.8903832986408348),\n",
              "   (None, 0.9115778669350207),\n",
              "   (None, 0.9462506660737322),\n",
              "   (None, 0.9544374523641656),\n",
              "   (None, 0.971191038197704)])]"
            ]
          },
          "metadata": {},
          "execution_count": 23
        }
      ]
    },
    {
      "cell_type": "code",
      "metadata": {
        "id": "MQhoJaVZI93G"
      },
      "source": [],
      "execution_count": 23,
      "outputs": []
    },
    {
      "cell_type": "markdown",
      "metadata": {
        "id": "Iy65YJTH99iT"
      },
      "source": [
        "# Упражнения\n",
        "Упражнения взяты из Rajaraman A., Ullman J. D. Mining of massive datasets. – Cambridge University Press, 2011.\n",
        "\n",
        "\n",
        "Для выполнения заданий переопределите функции RECORDREADER, MAP, REDUCE. Для модели распределённой системы может потребоваться переопределение функций PARTITION и COMBINER."
      ]
    },
    {
      "cell_type": "markdown",
      "metadata": {
        "id": "cfvAeZm3S8S8"
      },
      "source": [
        "### Максимальное значение ряда\n",
        "\n",
        "Разработайте MapReduce алгоритм, который находит максимальное число входного списка чисел."
      ]
    },
    {
      "cell_type": "code",
      "metadata": {
        "id": "3GRA1JR-Tkbg",
        "colab": {
          "base_uri": "https://localhost:8080/"
        },
        "outputId": "53667dc0-096c-4a1a-d23a-b2d928735bf8"
      },
      "source": [
        "import random\n",
        "\n",
        "def MAP(num_list):\n",
        "    return max(num_list)\n",
        "\n",
        "\n",
        "def REDUCE(num_list):\n",
        "    return max(num_list)\n",
        "\n",
        "\n",
        "def RECORDREADER(count):\n",
        "    return [random.randint(0, 100) for i in range(count)]\n",
        "\n",
        "\n",
        "record = RECORDREADER(100)\n",
        "\n",
        "parts = 5\n",
        "record_partitional = [record[d:d + parts] for d in range(0, len(record), parts)]\n",
        "print(REDUCE(list(map(lambda x: MAP(x), record_partitional))))"
      ],
      "execution_count": 36,
      "outputs": [
        {
          "output_type": "stream",
          "name": "stdout",
          "text": [
            "100\n"
          ]
        }
      ]
    },
    {
      "cell_type": "markdown",
      "metadata": {
        "id": "k86bXnqZTk-U"
      },
      "source": [
        "### Арифметическое среднее\n",
        "\n",
        "Разработайте MapReduce алгоритм, который находит арифметическое среднее.\n",
        "\n",
        "$$\\overline{X} = \\frac{1}{n}\\sum_{i=0}^{n} x_i$$\n"
      ]
    },
    {
      "cell_type": "code",
      "metadata": {
        "id": "MPoY5pkfUNZf",
        "colab": {
          "base_uri": "https://localhost:8080/"
        },
        "outputId": "fc195992-0729-4512-99c0-6da9b1ff29fd"
      },
      "source": [
        "from typing import Iterator\n",
        "import random\n",
        "\n",
        "def RECORDREADER(count):\n",
        "    return [random.randint(0, 100) for i in range(count)]\n",
        "\n",
        "def MAP(num):\n",
        "    return (1, num)\n",
        "\n",
        "def REDUCE(_, numbers:Iterator[NamedTuple]):\n",
        "    sum = 0\n",
        "    count = 0\n",
        "    for number in numbers:\n",
        "      sum+=number\n",
        "      count+=1\n",
        "    yield('AVG', sum/count)\n",
        "\n",
        "map_output = list(map(lambda x: MAP(x), RECORDREADER(100)))\n",
        "\n",
        "shuffle_output = groupbykey(map_output)\n",
        "shuffle_output = list(shuffle_output)\n",
        "\n",
        "output = list(flatten(map(lambda x: REDUCE(*x), shuffle_output)))\n",
        "print(output)"
      ],
      "execution_count": 40,
      "outputs": [
        {
          "output_type": "stream",
          "name": "stdout",
          "text": [
            "[('AVG', 48.02)]\n"
          ]
        }
      ]
    },
    {
      "cell_type": "markdown",
      "metadata": {
        "id": "xanzszhsIlLe"
      },
      "source": [
        "### GroupByKey на основе сортировки\n",
        "\n",
        "Реализуйте groupByKey на основе сортировки, проверьте его работу на примерах"
      ]
    },
    {
      "cell_type": "code",
      "metadata": {
        "id": "hQPn3USsIkEC",
        "colab": {
          "base_uri": "https://localhost:8080/"
        },
        "outputId": "f2dffd91-6335-43a5-abb2-b7c4de216d11"
      },
      "source": [
        "def group_by_key(iterable):\n",
        "    sorted_data = sorted(iterable, key=lambda x: x[0])\n",
        "    grouped_data = {}\n",
        "    for key, value in sorted_data:\n",
        "        if key not in grouped_data:\n",
        "            grouped_data[key] = [value]\n",
        "        else:\n",
        "            grouped_data[key].append(value)\n",
        "    result = []\n",
        "    for key, value in grouped_data.items():\n",
        "        result.append((key, value))\n",
        "    return result\n",
        "\n",
        "def MAP(num):\n",
        "    return (1, num)\n",
        "\n",
        "\n",
        "def REDUCE(_, numbers:Iterator[NamedTuple]):\n",
        "    sum = 0\n",
        "    count = 0\n",
        "    for number in numbers:\n",
        "      sum+=number\n",
        "      count+=1\n",
        "    yield('AVG', sum/count)\n",
        "\n",
        "\n",
        "def RECORDREADER(count):\n",
        "    return [random.randint(0, 100) for i in range(count)]\n",
        "\n",
        "map_output = list(map(lambda x: MAP(x), RECORDREADER(100)))\n",
        "shuffle_output = group_by_key(map_output)\n",
        "shuffle_output = list(shuffle_output)\n",
        "print(shuffle_output)\n",
        "\n",
        "output = list(flatten(map(lambda x: REDUCE(*x), shuffle_output)))\n",
        "print(output)"
      ],
      "execution_count": 42,
      "outputs": [
        {
          "output_type": "stream",
          "name": "stdout",
          "text": [
            "[(1, [36, 58, 90, 85, 30, 58, 51, 99, 95, 91, 87, 89, 42, 39, 57, 29, 51, 59, 13, 7, 59, 5, 44, 55, 30, 5, 76, 84, 72, 59, 64, 95, 33, 71, 75, 19, 74, 16, 6, 46, 46, 64, 4, 77, 0, 88, 51, 77, 77, 5, 38, 100, 47, 65, 68, 12, 62, 78, 5, 22, 41, 33, 57, 47, 79, 97, 23, 80, 38, 37, 99, 72, 94, 69, 47, 5, 71, 51, 88, 75, 38, 23, 90, 21, 45, 38, 42, 52, 30, 94, 25, 65, 38, 89, 10, 38, 23, 25, 59, 44])]\n",
            "[('AVG', 52.32)]\n"
          ]
        }
      ]
    },
    {
      "cell_type": "markdown",
      "metadata": {
        "id": "5SgEjCZyGnu6"
      },
      "source": [
        "### Drop duplicates (set construction, unique elements, distinct)\n",
        "\n",
        "Реализуйте распределённую операцию исключения дубликатов"
      ]
    },
    {
      "cell_type": "code",
      "metadata": {
        "id": "okjbyApjGhMt",
        "colab": {
          "base_uri": "https://localhost:8080/"
        },
        "outputId": "2d19daa3-4b05-44f9-a281-d30f27d7af72"
      },
      "source": [
        "from typing import Iterator\n",
        "import numpy as np\n",
        "\n",
        "d1 = \"\"\"\n",
        "it is what it is\n",
        "it is what it is\n",
        "it is what it is\"\"\"\n",
        "d2 = \"\"\"\n",
        "what is it\n",
        "what is it\"\"\"\n",
        "d3 = \"\"\"\n",
        "it is a banana\"\"\"\n",
        "documents = [d1, d2, d3, d1, d2, d3]\n",
        "\n",
        "maps = 3\n",
        "reducers = 2\n",
        "\n",
        "def INPUTFORMAT():\n",
        "  global maps\n",
        "\n",
        "  def RECORDREADER(split):\n",
        "    for (docid, document) in enumerate(split):\n",
        "      for (lineid, line) in enumerate(document.split('\\n')):\n",
        "        yield (\"{}:{}\".format(docid,lineid), line)\n",
        "\n",
        "  split_size =  int(np.ceil(len(documents)/maps))\n",
        "  for i in range(0, len(documents), split_size):\n",
        "    yield RECORDREADER(documents[i:i+split_size])\n",
        "\n",
        "def MAP(docId:str, line:str):\n",
        "  for word in line.split(\" \"):\n",
        "    yield (word, word)\n",
        "\n",
        "def REDUCE(key:str, value:Iterator[str]):\n",
        "  yield key\n",
        "\n",
        "# try to set COMBINER=REDUCER and look at the number of values sent over the network\n",
        "partitioned_output = MapReduceDistributed(INPUTFORMAT, MAP, REDUCE, COMBINER=None)\n",
        "partitioned_output = [(partition_id, list(partition)) for (partition_id, partition) in partitioned_output]\n",
        "partitioned_output"
      ],
      "execution_count": 45,
      "outputs": [
        {
          "output_type": "stream",
          "name": "stdout",
          "text": [
            "56 key-value pairs were sent over a network.\n"
          ]
        },
        {
          "output_type": "execute_result",
          "data": {
            "text/plain": [
              "[(0, ['', 'is', 'what']), (1, ['a', 'banana', 'it'])]"
            ]
          },
          "metadata": {},
          "execution_count": 45
        }
      ]
    },
    {
      "cell_type": "markdown",
      "metadata": {
        "id": "e7sRGoTXuJze"
      },
      "source": [
        "#Операторы реляционной алгебры\n",
        "### Selection (Выборка)\n",
        "\n",
        "**The Map Function**: Для  каждого кортежа $t \\in R$ вычисляется истинность предиката $C$. В случае истины создаётся пара ключ-значение $(t, t)$. В паре ключ и значение одинаковы, равны $t$.\n",
        "\n",
        "**The Reduce Function:** Роль функции Reduce выполняет функция идентичности, которая возвращает то же значение, что получила на вход.\n",
        "\n"
      ]
    },
    {
      "cell_type": "code",
      "metadata": {
        "id": "4nKIKe59uIfc",
        "colab": {
          "base_uri": "https://localhost:8080/"
        },
        "outputId": "b03c7c63-6328-43d4-b666-51ebbb9f5656"
      },
      "source": [
        "# Предикатом C в данном случае является проверка параметра gender\n",
        "def MAP_SELECT(_, row: NamedTuple):\n",
        "    if row.gender == \"female\":\n",
        "        yield (row, row)\n",
        "\n",
        "\n",
        "def REDUCE_SELECT(row: str, rows: Iterator[NamedTuple]):\n",
        "    yield (row, rows)\n",
        "\n",
        "\n",
        "def RECORDREADER():\n",
        "    return [(u.id, u) for u in input_collection]\n",
        "\n",
        "\n",
        "output = MapReduce(RECORDREADER, MAP_SELECT, REDUCE_SELECT)\n",
        "output = list(output)\n",
        "output"
      ],
      "execution_count": 46,
      "outputs": [
        {
          "output_type": "execute_result",
          "data": {
            "text/plain": [
              "[(User(id=1, age=25, social_contacts=240, gender='female'),\n",
              "  [User(id=1, age=25, social_contacts=240, gender='female')]),\n",
              " (User(id=2, age=25, social_contacts=500, gender='female'),\n",
              "  [User(id=2, age=25, social_contacts=500, gender='female')]),\n",
              " (User(id=3, age=33, social_contacts=800, gender='female'),\n",
              "  [User(id=3, age=33, social_contacts=800, gender='female')])]"
            ]
          },
          "metadata": {},
          "execution_count": 46
        }
      ]
    },
    {
      "cell_type": "markdown",
      "metadata": {
        "id": "w27Ca-_Ku85V"
      },
      "source": [
        "### Projection (Проекция)\n",
        "\n",
        "Проекция на множество атрибутов $S$.\n",
        "\n",
        "**The Map Function:** Для каждого кортежа $t \\in R$ создайте кортеж $t′$, исключая  из $t$ те значения, атрибуты которых не принадлежат  $S$. Верните пару $(t′, t′)$.\n",
        "\n",
        "**The Reduce Function:** Для каждого ключа $t′$, созданного любой Map задачей, вы получаете одну или несколько пар $(t′, t′)$. Reduce функция преобразует $(t′, [t′, t′, . . . , t′])$ в $(t′, t′)$, так, что для ключа $t′$ возвращается одна пара  $(t′, t′)$."
      ]
    },
    {
      "cell_type": "code",
      "metadata": {
        "id": "BEvuY4GqvhS6"
      },
      "source": [
        "input_collection_2 = [\n",
        "    dict(id=0, age=54, gender=\"male\", social_contacts=20),\n",
        "    dict(id=0, age=25, gender=\"female\", social_contacts=240),\n",
        "    dict(id=1, age=27, gender=\"undefined\", social_contacts=642),\n",
        "    dict(id=2, age=16, gender=\"male\", social_contacts=123),\n",
        "    dict(id=2, age=35, gender=\"undefined\", social_contacts=247),\n",
        "    dict(id=3, age=31, gender=\"male\", social_contacts=521),\n",
        "    dict(id=3, age=32, gender=\"female\", social_contacts=753),\n",
        "]"
      ],
      "execution_count": 47,
      "outputs": []
    },
    {
      "cell_type": "code",
      "source": [
        "def MAP_PROJECTION(_, row: dict):\n",
        "    S = [\"male\", \"female\"]\n",
        "    if row[\"gender\"] in S:\n",
        "        yield (row[\"id\"], row)\n",
        "    else:\n",
        "        # Удаляем поле gender у полученого словаря\n",
        "        modified_row = row.copy()\n",
        "        del modified_row[\"gender\"]\n",
        "        yield (modified_row[\"id\"], modified_row)\n",
        "\n",
        "\n",
        "def REDUCE_PROJECTION(row: str, rows: Iterator[NamedTuple]):\n",
        "    yield (row, rows)\n",
        "\n",
        "\n",
        "def RECORDREADER():\n",
        "    return [(u[\"id\"], u) for u in input_collection_2]\n",
        "\n",
        "\n",
        "output = MapReduce(RECORDREADER, MAP_PROJECTION, REDUCE_PROJECTION)\n",
        "output = list(output)\n",
        "output"
      ],
      "metadata": {
        "colab": {
          "base_uri": "https://localhost:8080/"
        },
        "id": "VRo6KcYdCJMO",
        "outputId": "f260c67a-1023-49ed-9618-ce4d364c23fd"
      },
      "execution_count": 48,
      "outputs": [
        {
          "output_type": "execute_result",
          "data": {
            "text/plain": [
              "[(0,\n",
              "  [{'id': 0, 'age': 54, 'gender': 'male', 'social_contacts': 20},\n",
              "   {'id': 0, 'age': 25, 'gender': 'female', 'social_contacts': 240}]),\n",
              " (1, [{'id': 1, 'age': 27, 'social_contacts': 642}]),\n",
              " (2,\n",
              "  [{'id': 2, 'age': 16, 'gender': 'male', 'social_contacts': 123},\n",
              "   {'id': 2, 'age': 35, 'social_contacts': 247}]),\n",
              " (3,\n",
              "  [{'id': 3, 'age': 31, 'gender': 'male', 'social_contacts': 521},\n",
              "   {'id': 3, 'age': 32, 'gender': 'female', 'social_contacts': 753}])]"
            ]
          },
          "metadata": {},
          "execution_count": 48
        }
      ]
    },
    {
      "cell_type": "markdown",
      "metadata": {
        "id": "7gau6lKXvn2R"
      },
      "source": [
        "### Union (Объединение)\n",
        "\n",
        "**The Map Function:** Превратите каждый входной кортеж $t$ в пару ключ-значение $(t, t)$.\n",
        "\n",
        "**The Reduce Function:** С каждым ключом $t$ будет ассоциировано одно или два значений. В обоих случаях создайте $(t, t)$ в качестве выходного значения."
      ]
    },
    {
      "cell_type": "code",
      "metadata": {
        "id": "Sns7a5agv3nw"
      },
      "source": [
        "input_collection_a = [\n",
        "    User(id=1, age=54, gender=\"male\", social_contacts=20),\n",
        "    User(id=2, age=25, gender=\"female\", social_contacts=240),\n",
        "    User(id=3, age=27, gender=\"male\", social_contacts=642),\n",
        "    User(id=4, age=16, gender=\"male\", social_contacts=123),\n",
        "    User(id=5, age=35, gender=\"female\", social_contacts=247),\n",
        "]\n",
        "\n",
        "input_collection_b = [\n",
        "    User(id=5, age=35, gender=\"female\", social_contacts=247),\n",
        "    User(id=6, age=31, gender=\"male\", social_contacts=521),\n",
        "    User(id=7, age=32, gender=\"female\", social_contacts=753),\n",
        "]"
      ],
      "execution_count": 49,
      "outputs": []
    },
    {
      "cell_type": "code",
      "source": [
        "# Группировка пользователей по id\n",
        "def MAP_UNION(_, row: NamedTuple):\n",
        "    yield (row.id, row)\n",
        "\n",
        "\n",
        "# Выходное значение равно (t, t) независимо от присутствия пользователя в только одной или обоих выборках\n",
        "def REDUCE_UNION(row: str, rows: Iterator[NamedTuple]):\n",
        "    yield (rows[0], rows[0])\n",
        "\n",
        "\n",
        "def RECORDREADER():\n",
        "    return [(u.id, u) for u in input_collection_a + input_collection_b]\n",
        "\n",
        "\n",
        "output = MapReduce(RECORDREADER, MAP_UNION, REDUCE_UNION)\n",
        "output = list(output)\n",
        "output"
      ],
      "metadata": {
        "colab": {
          "base_uri": "https://localhost:8080/"
        },
        "id": "aK-e1tI4FAp2",
        "outputId": "731d5a96-0760-44e0-e608-990982db6893"
      },
      "execution_count": 50,
      "outputs": [
        {
          "output_type": "execute_result",
          "data": {
            "text/plain": [
              "[(User(id=1, age=54, social_contacts=20, gender='male'),\n",
              "  User(id=1, age=54, social_contacts=20, gender='male')),\n",
              " (User(id=2, age=25, social_contacts=240, gender='female'),\n",
              "  User(id=2, age=25, social_contacts=240, gender='female')),\n",
              " (User(id=3, age=27, social_contacts=642, gender='male'),\n",
              "  User(id=3, age=27, social_contacts=642, gender='male')),\n",
              " (User(id=4, age=16, social_contacts=123, gender='male'),\n",
              "  User(id=4, age=16, social_contacts=123, gender='male')),\n",
              " (User(id=5, age=35, social_contacts=247, gender='female'),\n",
              "  User(id=5, age=35, social_contacts=247, gender='female')),\n",
              " (User(id=6, age=31, social_contacts=521, gender='male'),\n",
              "  User(id=6, age=31, social_contacts=521, gender='male')),\n",
              " (User(id=7, age=32, social_contacts=753, gender='female'),\n",
              "  User(id=7, age=32, social_contacts=753, gender='female'))]"
            ]
          },
          "metadata": {},
          "execution_count": 50
        }
      ]
    },
    {
      "cell_type": "markdown",
      "metadata": {
        "id": "dQ8TuEbjv4J8"
      },
      "source": [
        "### Intersection (Пересечение)\n",
        "\n",
        "**The Map Function:** Превратите каждый кортеж $t$ в пары ключ-значение $(t, t)$.\n",
        "\n",
        "**The Reduce Function:** Если для ключа $t$ есть список из двух элементов $[t, t]$ $-$ создайте пару $(t, t)$. Иначе, ничего не создавайте."
      ]
    },
    {
      "cell_type": "code",
      "metadata": {
        "id": "XKlBZh4IwERR",
        "colab": {
          "base_uri": "https://localhost:8080/"
        },
        "outputId": "9e2ee0c0-ec26-4ace-fd53-0ae381b201de"
      },
      "source": [
        "# Группировка по пользователям\n",
        "def MAP_INTERSECTION(_, row: NamedTuple):\n",
        "    yield (row.id, row)\n",
        "\n",
        "\n",
        "# Возвращает пользователя, только если он присутствует в обоих выборках\n",
        "def REDUCE_INTERSECTION(row_id: int, rows: Iterator[NamedTuple]):\n",
        "    if len(rows) == 2:\n",
        "        yield rows\n",
        "\n",
        "\n",
        "def RECORDREADER():\n",
        "    return [(u.id, u) for u in input_collection_a + input_collection_b]\n",
        "\n",
        "\n",
        "output = MapReduce(RECORDREADER, MAP_INTERSECTION, REDUCE_INTERSECTION)\n",
        "output = list(output)\n",
        "output"
      ],
      "execution_count": 51,
      "outputs": [
        {
          "output_type": "execute_result",
          "data": {
            "text/plain": [
              "[[User(id=5, age=35, social_contacts=247, gender='female'),\n",
              "  User(id=5, age=35, social_contacts=247, gender='female')]]"
            ]
          },
          "metadata": {},
          "execution_count": 51
        }
      ]
    },
    {
      "cell_type": "markdown",
      "metadata": {
        "id": "AVOpqoY3wE5k"
      },
      "source": [
        "### Difference (Разница)\n",
        "\n",
        "**The Map Function:** Для кортежа $t \\in R$, создайте пару $(t, R)$, и для кортежа $t \\in S$, создайте пару $(t, S)$. Задумка заключается в том, чтобы значение пары было именем отношения $R$ or $S$, которому принадлежит кортеж (а лучше, единичный бит, по которому можно два отношения различить $R$ or $S$), а не весь набор атрибутов отношения.\n",
        "\n",
        "**The Reduce Function:** Для каждого ключа $t$, если соответствующее значение является списком $[R]$, создайте пару $(t, t)$. В иных случаях не предпринимайте действий."
      ]
    },
    {
      "cell_type": "code",
      "metadata": {
        "id": "QE_AC09lwZIZ",
        "colab": {
          "base_uri": "https://localhost:8080/"
        },
        "outputId": "6ac2a156-f408-4f11-ccd7-cec7ac14e216"
      },
      "source": [
        "# Группировка по пользователям\n",
        "def MAP_DIFFERENCE(collection_id, user):\n",
        "    yield (user, collection_id)\n",
        "\n",
        "\n",
        "# Возвращает пользователей, входящих только в первую выборку (и не входящих во вторую)\n",
        "def REDUCE_DIFFERENCE(user, collections):\n",
        "    if collections == [0]:\n",
        "        yield (user)\n",
        "\n",
        "\n",
        "# На первом месте стоит номер выборки\n",
        "def RECORDREADER():\n",
        "    return [(0, a) for a in input_collection_a] + [(1, b) for b in input_collection_b]\n",
        "\n",
        "\n",
        "output = MapReduce(RECORDREADER, MAP_DIFFERENCE, REDUCE_DIFFERENCE)\n",
        "output = list(output)\n",
        "output"
      ],
      "execution_count": 52,
      "outputs": [
        {
          "output_type": "execute_result",
          "data": {
            "text/plain": [
              "[User(id=1, age=54, social_contacts=20, gender='male'),\n",
              " User(id=2, age=25, social_contacts=240, gender='female'),\n",
              " User(id=3, age=27, social_contacts=642, gender='male'),\n",
              " User(id=4, age=16, social_contacts=123, gender='male')]"
            ]
          },
          "metadata": {},
          "execution_count": 52
        }
      ]
    },
    {
      "cell_type": "markdown",
      "metadata": {
        "id": "j8I58V2VwhSm"
      },
      "source": [
        "### Natural Join\n",
        "\n",
        "**The Map Function:** Для каждого кортежа $(a, b)$ отношения $R$, создайте пару $(b,(R, a))$. Для каждого кортежа $(b, c)$ отношения $S$, создайте пару $(b,(S, c))$.\n",
        "\n",
        "**The Reduce Function:** Каждый ключ $b$ будет асоциирован со списком пар, которые принимают форму либо $(R, a)$, либо $(S, c)$. Создайте все пары, одни, состоящие из  первого компонента $R$, а другие, из первого компонента $S$, то есть $(R, a)$ и $(S, c)$. На выходе вы получаете последовательность пар ключ-значение из списков ключей и значений. Ключ не нужен. Каждое значение, это тройка $(a, b, c)$ такая, что $(R, a)$ и $(S, c)$ это принадлежат входному списку значений."
      ]
    },
    {
      "cell_type": "code",
      "metadata": {
        "id": "yHiuuTctw86I"
      },
      "source": [
        "class User(NamedTuple):\n",
        "    id: int\n",
        "    age: str\n",
        "    social_contacts: int\n",
        "    gender: str\n",
        "    city_id: int\n",
        "\n",
        "\n",
        "users_collection = [\n",
        "    User(id=1, age=54, gender=\"male\", social_contacts=20, city_id=1),\n",
        "    User(id=2, age=25, gender=\"female\", social_contacts=240, city_id=2),\n",
        "    User(id=3, age=27, gender=\"male\", social_contacts=642, city_id=2),\n",
        "    User(id=4, age=16, gender=\"male\", social_contacts=123, city_id=3),\n",
        "    User(id=5, age=35, gender=\"female\", social_contacts=247, city_id=4),\n",
        "]\n",
        "\n",
        "\n",
        "class City(NamedTuple):\n",
        "    id: int\n",
        "    name: str\n",
        "\n",
        "\n",
        "cities_collection = [\n",
        "    City(id=1, name=\"Samara\"),\n",
        "    City(id=2, name=\"Moscow\"),\n",
        "    City(id=3, name=\"Omsk\"),\n",
        "    City(id=4, name=\"Tomks\"),\n",
        "    City(id=5, name=\"Belgorod\"),\n",
        "]"
      ],
      "execution_count": 53,
      "outputs": []
    },
    {
      "cell_type": "code",
      "source": [
        "# Группировка пользователей по id города\n",
        "def MAP_JOIN(city_id, row):\n",
        "    yield (city_id, row)\n",
        "\n",
        "\n",
        "def REDUCE_JOIN(city_id, rows):\n",
        "    users = []\n",
        "    city = None\n",
        "\n",
        "    # Цикл для определения города (он будет единственным, так как группировка происходит по id города)\n",
        "    for row in rows:\n",
        "        if type(row) is User:\n",
        "            users += [row]\n",
        "        else:\n",
        "            city = row\n",
        "\n",
        "    for row in rows:\n",
        "        if type(row) is User:\n",
        "            # Возвращает тройки (a,b,c), где a - пользователь, b - id города, c - сам город\n",
        "            yield (row, row.city_id, city)\n",
        "\n",
        "\n",
        "# На первом месте стоит id города, на втором - сам город или пользователь\n",
        "def RECORDREADER():\n",
        "    return [(user.city_id, user) for user in users_collection] + [\n",
        "        (city.id, city) for city in cities_collection\n",
        "    ]\n",
        "\n",
        "\n",
        "output = MapReduce(RECORDREADER, MAP_JOIN, REDUCE_JOIN)\n",
        "output = list(output)\n",
        "joined_data = output\n",
        "joined_data"
      ],
      "metadata": {
        "colab": {
          "base_uri": "https://localhost:8080/"
        },
        "id": "7EUWnxCDFQpT",
        "outputId": "389630a5-4afe-4661-d3a0-9110ed7d7952"
      },
      "execution_count": 54,
      "outputs": [
        {
          "output_type": "execute_result",
          "data": {
            "text/plain": [
              "[(User(id=1, age=54, social_contacts=20, gender='male', city_id=1),\n",
              "  1,\n",
              "  City(id=1, name='Samara')),\n",
              " (User(id=2, age=25, social_contacts=240, gender='female', city_id=2),\n",
              "  2,\n",
              "  City(id=2, name='Moscow')),\n",
              " (User(id=3, age=27, social_contacts=642, gender='male', city_id=2),\n",
              "  2,\n",
              "  City(id=2, name='Moscow')),\n",
              " (User(id=4, age=16, social_contacts=123, gender='male', city_id=3),\n",
              "  3,\n",
              "  City(id=3, name='Omsk')),\n",
              " (User(id=5, age=35, social_contacts=247, gender='female', city_id=4),\n",
              "  4,\n",
              "  City(id=4, name='Tomks'))]"
            ]
          },
          "metadata": {},
          "execution_count": 54
        }
      ]
    },
    {
      "cell_type": "markdown",
      "metadata": {
        "id": "kYdlr0YUxE27"
      },
      "source": [
        "### Grouping and Aggregation (Группировка и аггрегация)\n",
        "\n",
        "**The Map Function:** Для каждого кортежа $(a, b, c$) создайте пару $(a, b)$.\n",
        "\n",
        "**The Reduce Function:** Ключ представляет ту или иную группу. Примение аггрегирующую операцию $\\theta$ к списку значений $[b1, b2, . . . , bn]$ ассоциированных с ключом $a$. Возвращайте в выходной поток $(a, x)$, где $x$ результат применения  $\\theta$ к списку. Например, если $\\theta$ это $SUM$, тогда $x = b1 + b2 + · · · + bn$, а если $\\theta$ is $MAX$, тогда $x$ это максимальное из значений $b1, b2, . . . , bn$."
      ]
    },
    {
      "cell_type": "code",
      "metadata": {
        "id": "MLPckfEGxico",
        "colab": {
          "base_uri": "https://localhost:8080/"
        },
        "outputId": "c8df0207-6bdb-4240-ae25-ea88a0ed833e"
      },
      "source": [
        "# Группировка по id города\n",
        "def MAP_GROUP(city_id, user, city):\n",
        "    yield (city_id, user)\n",
        "\n",
        "\n",
        "# Подсчет количества пользователей в каждом из городов\n",
        "def REDUCE_GROUP(city_id, rows):\n",
        "    yield f\"city with id={city_id} has {len(rows)} user(s)\"\n",
        "\n",
        "\n",
        "def RECORDREADER():\n",
        "    return [(city_id, user, city) for user, city_id, city in joined_data]\n",
        "\n",
        "\n",
        "output = MapReduce(RECORDREADER, MAP_GROUP, REDUCE_GROUP)\n",
        "output = list(output)\n",
        "output"
      ],
      "execution_count": 55,
      "outputs": [
        {
          "output_type": "execute_result",
          "data": {
            "text/plain": [
              "['city with id=1 has 1 user(s)',\n",
              " 'city with id=2 has 2 user(s)',\n",
              " 'city with id=3 has 1 user(s)',\n",
              " 'city with id=4 has 1 user(s)']"
            ]
          },
          "metadata": {},
          "execution_count": 55
        }
      ]
    },
    {
      "cell_type": "markdown",
      "metadata": {
        "id": "03IffTEOJgOb"
      },
      "source": [
        "#"
      ]
    },
    {
      "cell_type": "markdown",
      "metadata": {
        "id": "IIrRgvG4RIS4"
      },
      "source": [
        "### Matrix-Vector multiplication\n",
        "\n",
        "Случай, когда вектор не помещается в памяти Map задачи\n"
      ]
    },
    {
      "cell_type": "code",
      "metadata": {
        "id": "KQhDbiL3zS9r"
      },
      "source": [],
      "execution_count": null,
      "outputs": []
    },
    {
      "cell_type": "markdown",
      "metadata": {
        "id": "GIo2t7nNxvA9"
      },
      "source": [
        "## Matrix multiplication (Перемножение матриц)\n",
        "\n",
        "Если у нас есть матрица $M$ с элементами $m_{ij}$ в строке $i$ и столбце $j$, и матрица $N$ с элементами $n_{jk}$ в строке $j$ и столбце $k$, тогда их произведение $P = MN$ есть матрица $P$ с элементами $p_{ik}$ в строке $i$ и столбце $k$, где\n",
        "\n",
        "$$p_{ik} =\\sum_{j} m_{ij}n_{jk}$$\n",
        "\n",
        "Необходимым требованием является одинаковое количество столбцов в $M$ и строк в $N$, чтобы операция суммирования по  $j$ была осмысленной. Мы можем размышлять о матрице, как об отношении с тремя атрибутами: номер строки, номер столбца, само значение. Таким образом матрица $M$ предстваляется как отношение $ M(I, J, V )$, с кортежами $(i, j, m_{ij})$, и, аналогично, матрица $N$ представляется как отношение $N(J, K, W)$, с кортежами $(j, k, n_{jk})$. Так как большие матрицы как правило разреженные (большинство значений равно 0), и так как мы можем нулевыми значениями пренебречь (не хранить), такое реляционное представление достаточно эффективно для больших матриц. Однако, возможно, что координаты $i$, $j$, и $k$ неявно закодированы в смещение позиции элемента относительно начала файла, вместо явного хранения. Тогда, функция Map (или Reader) должна быть разработана таким образом, чтобы реконструировать компоненты $I$, $J$, и $K$ кортежей из смещения.\n",
        "\n",
        "Произведение $MN$ это фактически join, за которым следуют группировка по ключу и аггрегация. Таким образом join отношений $M(I, J, V )$ и $N(J, K, W)$, имеющих общим только атрибут $J$, создаст кортежи $(i, j, k, v, w)$ из каждого кортежа $(i, j, v) \\in M$ и кортежа $(j, k, w) \\in N$. Такой 5 компонентный кортеж представляет пару элементов матрицы $(m_{ij} , n_{jk})$. Что нам хотелось бы получить на самом деле, это произведение этих элементов, то есть, 4 компонентный кортеж$(i, j, k, v \\times w)$, так как он представляет произведение $m_{ij}n_{jk}$. Мы представляем отношение как результат одной MapReduce операции, в которой мы можем произвести группировку и аггрегацию, с $I$ и $K$  атрибутами, по которым идёт группировка, и суммой  $V \\times W$.\n",
        "\n",
        "\n",
        "\n"
      ]
    },
    {
      "cell_type": "code",
      "metadata": {
        "id": "1MBkGaLAYVCt"
      },
      "source": [
        "# MapReduce model\n",
        "def flatten(nested_iterable):\n",
        "  for iterable in nested_iterable:\n",
        "    for element in iterable:\n",
        "      yield element\n",
        "\n",
        "def groupbykey(iterable):\n",
        "  t = {}\n",
        "  for (k2, v2) in iterable:\n",
        "    t[k2] = t.get(k2, []) + [v2]\n",
        "  return t.items()\n",
        "\n",
        "def MapReduce(RECORDREADER, MAP, REDUCE):\n",
        "  return flatten(map(lambda x: REDUCE(*x), groupbykey(flatten(map(lambda x: MAP(*x), RECORDREADER())))))"
      ],
      "execution_count": 56,
      "outputs": []
    },
    {
      "cell_type": "markdown",
      "metadata": {
        "id": "sMspsOT0ZB35"
      },
      "source": [
        "Реализуйте перемножение матриц с использованием модельного кода MapReduce для одной машины в случае, когда одна матрица хранится в памяти, а другая генерируется RECORDREADER-ом."
      ]
    },
    {
      "cell_type": "code",
      "metadata": {
        "id": "psP1XekbsEjS"
      },
      "source": [
        "import numpy as np\n",
        "\n",
        "I = 2\n",
        "J = 3\n",
        "K = 4 * 10\n",
        "small_mat = np.random.rand(\n",
        "    I, J\n",
        ")  # it is legal to access this from RECORDREADER, MAP, REDUCE\n",
        "big_mat = np.random.rand(J, K)\n",
        "\n",
        "\n",
        "# Генерирует элементы второй матрицы вместе с их индексами\n",
        "def RECORDREADER():\n",
        "    for j in range(big_mat.shape[0]):\n",
        "        for k in range(big_mat.shape[1]):\n",
        "            yield ((j, k), big_mat[j, k])\n",
        "\n",
        "\n",
        "# Использует сгенерированные элементы второй матрицы и возвращает\n",
        "# их произведения на соответствующие элементы первой матрицы.\n",
        "# Для каждого элемента N[j,k] генерируется J произведений на M[i,j]\n",
        "def MAP(k1, v1):\n",
        "    (j, k) = k1\n",
        "    w = v1\n",
        "\n",
        "    # solution code that yield(k2,v2) pairs\n",
        "    for i in range(I):\n",
        "        k2 = (i, k)\n",
        "        v2 = small_mat[i, j] * w\n",
        "        yield (k2, v2)\n",
        "\n",
        "\n",
        "# Суммирует полученные произведения для вычисления элементов результирующей матрицы\n",
        "def REDUCE(key, values):\n",
        "    (i, k) = key\n",
        "\n",
        "    # solution code that yield(k3,v3) pairs\n",
        "    k3 = (i, k)\n",
        "\n",
        "    v3 = 0\n",
        "    for j in range(J):\n",
        "        v3 += values[j]\n",
        "\n",
        "    yield (k3, v3)"
      ],
      "execution_count": 57,
      "outputs": []
    },
    {
      "cell_type": "markdown",
      "metadata": {
        "id": "rnt306LHhHrm"
      },
      "source": [
        "Проверьте своё решение"
      ]
    },
    {
      "cell_type": "code",
      "metadata": {
        "id": "Ewy_ZNYqW5a2",
        "colab": {
          "base_uri": "https://localhost:8080/"
        },
        "outputId": "371fcb58-1879-4f3d-f9fe-864ae3f52f04"
      },
      "source": [
        "# CHECK THE SOLUTION\n",
        "reference_solution = np.matmul(small_mat, big_mat)\n",
        "solution = MapReduce(RECORDREADER, MAP, REDUCE)\n",
        "\n",
        "def asmatrix(reduce_output):\n",
        "  reduce_output = list(reduce_output)\n",
        "  I = max(i for ((i,k), vw) in reduce_output)+1\n",
        "  K = max(k for ((i,k), vw) in reduce_output)+1\n",
        "  mat = np.empty(shape=(I,K))\n",
        "  for ((i,k), vw) in reduce_output:\n",
        "    mat[i,k] = vw\n",
        "  return mat\n",
        "\n",
        "np.allclose(reference_solution, asmatrix(solution)) # should return true"
      ],
      "execution_count": 58,
      "outputs": [
        {
          "output_type": "execute_result",
          "data": {
            "text/plain": [
              "True"
            ]
          },
          "metadata": {},
          "execution_count": 58
        }
      ]
    },
    {
      "cell_type": "code",
      "metadata": {
        "id": "TK7v4CEcfxqf",
        "colab": {
          "base_uri": "https://localhost:8080/"
        },
        "outputId": "f3af192f-010c-4788-adcd-d245b0545426"
      },
      "source": [
        "reduce_output = list(MapReduce(RECORDREADER, MAP, REDUCE))\n",
        "max(i for ((i,k), vw) in reduce_output)"
      ],
      "execution_count": 59,
      "outputs": [
        {
          "output_type": "execute_result",
          "data": {
            "text/plain": [
              "1"
            ]
          },
          "metadata": {},
          "execution_count": 59
        }
      ]
    },
    {
      "cell_type": "markdown",
      "metadata": {
        "id": "i4yyg3kOZqJJ"
      },
      "source": [
        "Реализуйте перемножение матриц  с использованием модельного кода MapReduce для одной машины в случае, когда обе матрицы генерируются в RECORDREADER. Например, сначала одна, а потом другая."
      ]
    },
    {
      "cell_type": "code",
      "metadata": {
        "id": "3B7rIAJCaHZq"
      },
      "source": [
        "I = 2\n",
        "J = 3\n",
        "K = 4 * 10\n",
        "small_mat = np.random.rand(I, J)\n",
        "big_mat = np.random.rand(J, K)\n",
        "\n",
        "\n",
        "# Генерирует пары элементов из обоих матриц вместе с соответствующими им индексами\n",
        "# Элементы в паре предназначены для перемножения и дальнейшего суммирования (M[i,j] и N[i,k])\n",
        "def RECORDREADER():\n",
        "    for i in range(I):\n",
        "        for j in range(J):\n",
        "            for k in range(K):\n",
        "                yield (((i, j), small_mat[i, j]), ((j, k), big_mat[j, k]))\n",
        "\n",
        "\n",
        "# Перемножает полученные элементы двух матриц\n",
        "# Группирует произведения по индексу, соответствующему клетке в результирующей матрице\n",
        "# Таким образом, для каждого ключа (i, k) генерируется J произведений\n",
        "def MAP(element1, element2):\n",
        "    (i, j), v1 = element1\n",
        "    (j, k), v2 = element2\n",
        "\n",
        "    yield ((i, k), v1 * v2)\n",
        "\n",
        "\n",
        "# Суммирует полученные произведения для вычисления элементов результирующей матрицы\n",
        "def REDUCE(key, values):\n",
        "    (i, k) = key\n",
        "\n",
        "    # solution code that yield(k3,v3) pairs\n",
        "    k3 = (i, k)\n",
        "\n",
        "    v3 = 0\n",
        "    for j in range(J):\n",
        "        v3 += values[j]\n",
        "\n",
        "    yield (k3, v3)"
      ],
      "execution_count": 62,
      "outputs": []
    },
    {
      "cell_type": "code",
      "source": [
        "# CHECK THE SOLUTION\n",
        "reference_solution = np.matmul(small_mat, big_mat)\n",
        "solution = MapReduce(RECORDREADER, MAP, REDUCE)\n",
        "\n",
        "def asmatrix(reduce_output):\n",
        "  reduce_output = list(reduce_output)\n",
        "  I = max(i for ((i,k), vw) in reduce_output)+1\n",
        "  K = max(k for ((i,k), vw) in reduce_output)+1\n",
        "  mat = np.empty(shape=(I,K))\n",
        "  for ((i,k), vw) in reduce_output:\n",
        "    mat[i,k] = vw\n",
        "  return mat\n",
        "\n",
        "np.allclose(reference_solution, asmatrix(solution)) # should return true"
      ],
      "metadata": {
        "colab": {
          "base_uri": "https://localhost:8080/"
        },
        "id": "0T_BxpBuJuhz",
        "outputId": "dee0b57e-e450-41ca-bd59-9522e2ec5f7a"
      },
      "execution_count": 63,
      "outputs": [
        {
          "output_type": "execute_result",
          "data": {
            "text/plain": [
              "True"
            ]
          },
          "metadata": {},
          "execution_count": 63
        }
      ]
    },
    {
      "cell_type": "markdown",
      "metadata": {
        "id": "mXyzQi1DaIwo"
      },
      "source": [
        "Реализуйте перемножение матриц с использованием модельного кода MapReduce Distributed, когда каждая матрица генерируется в своём RECORDREADER."
      ]
    },
    {
      "cell_type": "code",
      "metadata": {
        "id": "TDM_s78Rb5eR",
        "colab": {
          "base_uri": "https://localhost:8080/"
        },
        "outputId": "6a305189-55a8-454b-9a73-a52acbfd3cc3"
      },
      "source": [
        "maps = 2\n",
        "reducers = 2\n",
        "\n",
        "\n",
        "def INPUTFORMAT():\n",
        "    global maps\n",
        "\n",
        "    # Так же, как и раньше, генерируются пары элементов из обоих матриц\n",
        "    def RECORDREADER(i_range):\n",
        "        for i in i_range:\n",
        "            for j in range(J):\n",
        "                for k in range(K):\n",
        "                    yield (((i, j), small_mat[i, j]), ((j, k), big_mat[j, k]))\n",
        "\n",
        "    # Разделение между вычислительными узлами происходит по строкам первой матрицы\n",
        "    split_size = int(np.ceil(I / maps))\n",
        "    for i in range(0, I, split_size):\n",
        "        yield RECORDREADER(range(i, i + split_size))\n",
        "\n",
        "\n",
        "# Возвращает произведения соответствующих элементов из обоих матриц, группируя их по индексу в результирующей матрице\n",
        "def MAP(element1, element2):\n",
        "    (i, j), v1 = element1\n",
        "    (j, k), v2 = element2\n",
        "\n",
        "    yield ((i, k), v1 * v2)\n",
        "\n",
        "\n",
        "# Суммирует полученные произведения\n",
        "def REDUCE(key, values):\n",
        "    (i, k) = key\n",
        "\n",
        "    # solution code that yield(k3,v3) pairs\n",
        "    k3 = (i, k)\n",
        "\n",
        "    v3 = 0\n",
        "    for j in range(J):\n",
        "        v3 += values[j]\n",
        "\n",
        "    yield (k3, v3)\n",
        "\n",
        "\n",
        "# try to set COMBINER=REDUCER and look at the number of values sent over the network\n",
        "partitioned_output = MapReduceDistributed(INPUTFORMAT, MAP, REDUCE, COMBINER=None)\n",
        "partitioned_output = [\n",
        "    (partition_id, list(partition)) for (partition_id, partition) in partitioned_output\n",
        "]\n",
        "\n",
        "# Соединение полученных произведений с разных вычислительных узлов\n",
        "solution = []\n",
        "for output_part in partitioned_output:\n",
        "    for element in output_part[1]:\n",
        "        solution += [element]\n",
        "\n",
        "print(asmatrix(solution))\n",
        "np.allclose(reference_solution, asmatrix(solution))  # should return true"
      ],
      "execution_count": 64,
      "outputs": [
        {
          "output_type": "stream",
          "name": "stdout",
          "text": [
            "240 key-value pairs were sent over a network.\n",
            "[[0.65561156 0.81978788 0.65433708 0.37273303 1.4022398  0.47192116\n",
            "  0.95024335 1.24655814 0.67805973 0.68329936 0.89601027 0.9487485\n",
            "  0.88106056 0.83670822 0.82957217 0.68329198 0.6071899  0.5646133\n",
            "  1.01625542 0.89987684 1.283339   1.02249944 0.59361569 0.84309843\n",
            "  1.25842342 0.99148309 0.68790372 0.74162051 0.88207281 0.94501222\n",
            "  0.5971838  0.93752522 1.19310898 0.80530131 1.16389534 0.40487027\n",
            "  0.56892138 0.42451936 1.05304648 1.45903271]\n",
            " [0.40930792 0.45921307 0.5474721  0.13056832 0.59317781 0.31669444\n",
            "  0.61097021 0.46602886 0.34605007 0.31927484 0.2453735  0.41386999\n",
            "  0.41824674 0.19711734 0.51296134 0.16242969 0.50485131 0.34759189\n",
            "  0.65585103 0.35155506 0.71738869 0.30204741 0.40074114 0.23925993\n",
            "  0.73715141 0.60216099 0.17354395 0.52815757 0.50638249 0.30812189\n",
            "  0.41821462 0.45423654 0.69612441 0.55786733 0.67633486 0.09474779\n",
            "  0.32948739 0.15177861 0.24953118 0.76294095]]\n"
          ]
        },
        {
          "output_type": "execute_result",
          "data": {
            "text/plain": [
              "True"
            ]
          },
          "metadata": {},
          "execution_count": 64
        }
      ]
    },
    {
      "cell_type": "markdown",
      "metadata": {
        "id": "ZuSA2P9Db6UM"
      },
      "source": [
        "Обобщите предыдущее решение на случай, когда каждая матрица генерируется несколькими RECORDREADER-ами, и проверьте его работоспособность. Будет ли работать решение, если RECORDREADER-ы будут генерировать случайное подмножество элементов матрицы?"
      ]
    },
    {
      "cell_type": "code",
      "metadata": {
        "id": "ehN0FqRDcwU5",
        "colab": {
          "base_uri": "https://localhost:8080/"
        },
        "outputId": "d27e336f-fa9f-4bb6-bdf3-b219dba8ceca"
      },
      "source": [
        "import numpy as np\n",
        "I = 2\n",
        "J = 3\n",
        "K = 4*10\n",
        "small_mat = np.random.rand(I,J)\n",
        "big_mat = np.random.rand(J,K)\n",
        "reference_solution = np.matmul(small_mat, big_mat)\n",
        "\n",
        "def INPUTFORMAT():\n",
        "  first_mat = []\n",
        "  for i in range(small_mat.shape[0]):\n",
        "    for j in range(small_mat.shape[1]):\n",
        "      first_mat.append(((0, i, j), small_mat[i,j])) # первая матрица\n",
        "\n",
        "  global maps\n",
        "  split_size =  int(np.ceil(len(first_mat)/maps))\n",
        "  for i in range(0, len(first_mat), split_size):\n",
        "    yield first_mat[i:i+split_size]\n",
        "\n",
        "  second_mat = []\n",
        "  for j in range(big_mat.shape[0]):\n",
        "    for k in range(big_mat.shape[1]):\n",
        "      second_mat.append(((1, j, k), big_mat[j,k])) # вторая матрица\n",
        "\n",
        "  split_size =  int(np.ceil(len(second_mat)/maps))\n",
        "  for i in range(0, len(second_mat), split_size):\n",
        "    yield second_mat[i:i+split_size]\n",
        "\n",
        "\n",
        "def MAP_JOIN(k1, v1):\n",
        "  (mat_num, i, j) = k1\n",
        "  w = v1\n",
        "  if mat_num == 0:\n",
        "    yield (j, (mat_num, i, w))\n",
        "  else:\n",
        "    yield (i, (mat_num, j, w))\n",
        "\n",
        "\n",
        "def REDUCE_JOIN(key, values):\n",
        "  from_first_mat = [v for v in values if v[0] == 0]\n",
        "  from_second_mat = [v for v in values if v[0] == 1]\n",
        "  for f in from_first_mat:\n",
        "    for s in from_second_mat:\n",
        "      yield ((f[1], s[1]), f[2] * s[2])\n",
        "\n",
        "\n",
        "def GET_JOINED():\n",
        "  for j in joined:\n",
        "    print(\"aa\", j)\n",
        "    yield j[1]\n",
        "\n",
        "\n",
        "def MAP_MUL(k1, v1):\n",
        "  yield (k1, v1)\n",
        "\n",
        "\n",
        "def REDUCE_MUL(key, values):\n",
        "  res_val = 0\n",
        "  for v in values:\n",
        "    res_val += v\n",
        "  yield (key, res_val)\n",
        "\n",
        "maps = 3\n",
        "reducers = 2\n",
        "partitioned_output = MapReduceDistributed(INPUTFORMAT, MAP_JOIN, REDUCE_JOIN, COMBINER=None)\n",
        "joined = [(partition_id, list(partition)) for (partition_id, partition) in partitioned_output]\n",
        "\n",
        "mul_output = MapReduceDistributed(GET_JOINED, MAP_MUL, REDUCE_MUL, COMBINER=None)\n",
        "pre_result = [(partition_id, list(partition)) for (partition_id, partition) in mul_output]\n",
        "\n",
        "solution = []\n",
        "for p in pre_result:\n",
        "  for v in p[1]:\n",
        "    solution.append(v)\n",
        "\n",
        "print(solution)\n",
        "np.allclose(reference_solution, asmatrix(solution)) # should return true\n"
      ],
      "execution_count": 65,
      "outputs": [
        {
          "output_type": "stream",
          "name": "stdout",
          "text": [
            "126 key-value pairs were sent over a network.\n",
            "aa (0, [((0, 0), 0.0020782752002887653), ((0, 1), 0.043465603499907815), ((0, 2), 0.0031481631312156024), ((0, 3), 0.10787828861475994), ((0, 4), 0.07902287533361094), ((0, 5), 0.040552090810131655), ((0, 6), 0.004428063595052945), ((0, 7), 0.0081536624723143), ((0, 8), 0.04708693833736818), ((0, 9), 0.06045379197039763), ((0, 10), 0.010799006794139619), ((0, 11), 0.03172081412350356), ((0, 12), 0.08640819778505271), ((0, 13), 0.1129638647012565), ((0, 14), 0.12468157029661911), ((0, 15), 0.036266531711295145), ((0, 16), 0.009982575941727037), ((0, 17), 0.08570365288942432), ((0, 18), 0.024304911444557854), ((0, 19), 0.12240076535401119), ((0, 20), 0.004348804189812149), ((0, 21), 0.06062937986853361), ((0, 22), 0.03624503707433374), ((0, 23), 0.0836912366317618), ((0, 24), 0.06537199160607599), ((0, 25), 0.0706605624926196), ((0, 26), 0.0463404668435723), ((0, 27), 0.10011727483170782), ((0, 28), 0.12365204203474886), ((0, 29), 0.08720839087187637), ((0, 30), 0.03417996198680238), ((0, 31), 0.09568380986834349), ((0, 32), 0.06636791859933952), ((0, 33), 0.1171844218910316), ((0, 34), 0.012297471303639946), ((0, 35), 0.07730806441721536), ((0, 36), 0.11568984243030996), ((0, 37), 0.11978015257773489), ((0, 38), 0.044239447563593506), ((0, 39), 0.12295632024830304), ((1, 0), 0.004629151982169278), ((1, 1), 0.09681532290325423), ((1, 2), 0.007012221286687183), ((1, 3), 0.2402881935485053), ((1, 4), 0.17601562099979523), ((1, 5), 0.09032576221317877), ((1, 6), 0.0098630726890081), ((1, 7), 0.018161474856846962), ((1, 8), 0.1048814872584845), ((1, 9), 0.13465482862449196), ((1, 10), 0.02405371709175235), ((1, 11), 0.07065496886814462), ((1, 12), 0.1924656946283025), ((1, 13), 0.25161581013075923), ((1, 14), 0.2777158377285057), ((1, 15), 0.08078010416253843), ((1, 16), 0.022235198303564564), ((1, 17), 0.1908963907172169), ((1, 18), 0.05413678081439404), ((1, 19), 0.2726355708227813), ((1, 20), 0.009686530221088062), ((1, 21), 0.1350459332609656), ((1, 22), 0.08073222698954323), ((1, 23), 0.1864139330009271), ((1, 24), 0.145609630755144), ((1, 25), 0.15738939813093933), ((1, 26), 0.10321879600630676), ((1, 27), 0.22300130472239268), ((1, 28), 0.27542266558582046), ((1, 29), 0.1942480454033458), ((1, 30), 0.0761324769499691), ((1, 31), 0.21312620102092694), ((1, 32), 0.14782795940301563), ((1, 33), 0.2610166828728252), ((1, 34), 0.027391398238791945), ((1, 35), 0.17219604967855), ((1, 36), 0.25768765528680204), ((1, 37), 0.26679841565386425), ((1, 38), 0.09853898384132576), ((1, 39), 0.2738730142757742), ((0, 0), 0.09741781972023018), ((0, 1), 0.003315062610913941), ((0, 2), 0.0810012269807233), ((0, 3), 0.08825347408379589), ((0, 4), 0.0966984008352175), ((0, 5), 0.09533555760649462), ((0, 6), 0.1454219045033836), ((0, 7), 0.06527635246966416), ((0, 8), 0.0009513426097240223), ((0, 9), 0.009093291263017689), ((0, 10), 0.014279255360146379), ((0, 11), 0.10430152204696198), ((0, 12), 0.029990210492803857), ((0, 13), 0.12932249509283095), ((0, 14), 0.07379322375595877), ((0, 15), 0.06614254474657094), ((0, 16), 0.043950610407331246), ((0, 17), 0.12385488619195144), ((0, 18), 0.014184956539960401), ((0, 19), 0.07122702389876051), ((0, 20), 0.12394302519772901), ((0, 21), 0.14064363193768684), ((0, 22), 0.1428466526892495), ((0, 23), 0.019364157939891907), ((0, 24), 0.012231361820932103), ((0, 25), 0.008984986274946415), ((0, 26), 0.006975262332133102), ((0, 27), 0.010449735026046778), ((0, 28), 0.08493234838155761), ((0, 29), 0.09594775211620436), ((0, 30), 0.13846365915581144), ((0, 31), 0.0008179462489792762), ((0, 32), 0.10605035249970063), ((0, 33), 0.1235494064511369), ((0, 34), 0.1452441338386614), ((0, 35), 0.07645665500443063), ((0, 36), 0.1282336713826839), ((0, 37), 0.0020373322481958083), ((0, 38), 0.07701985330498966), ((0, 39), 0.0107408247266455), ((1, 0), 0.2390894792679191), ((1, 1), 0.00813605350294417), ((1, 2), 0.1987987540113456), ((1, 3), 0.21659771510876608), ((1, 4), 0.2373238322118962), ((1, 5), 0.23397904910327263), ((1, 6), 0.35690438896820026), ((1, 7), 0.16020569096395165), ((1, 8), 0.0023348501312954887), ((1, 9), 0.022317377653802418), ((1, 10), 0.03504512560633782), ((1, 11), 0.2559839325564471), ((1, 12), 0.07360402676278265), ((1, 13), 0.3173921167417799), ((1, 14), 0.18110837926759066), ((1, 15), 0.1623315593217766), ((1, 16), 0.10786659551582894), ((1, 17), 0.3039731368394772), ((1, 18), 0.03481369098915389), ((1, 19), 0.17481023597802647), ((1, 20), 0.30418945361863603), ((1, 21), 0.34517722546963775), ((1, 22), 0.35058402974651653), ((1, 23), 0.047524841467469846), ((1, 24), 0.030019045149055748), ((1, 25), 0.02205156814097977), ((1, 26), 0.01711916611905563), ((1, 27), 0.025646454755817394), ((1, 28), 0.20844678115220827), ((1, 29), 0.2354815387602731), ((1, 30), 0.339826987097093), ((1, 31), 0.002007459654704134), ((1, 32), 0.2602760319225996), ((1, 33), 0.30322340755619004), ((1, 34), 0.35646809203834073), ((1, 35), 0.1876451544909721), ((1, 36), 0.31471985108626394), ((1, 37), 0.005000160214176098), ((1, 38), 0.18902739429876028), ((1, 39), 0.02636086701772465)])\n",
            "aa (1, [((0, 0), 0.011900619178632504), ((0, 1), 0.03298179951896208), ((0, 2), 0.020252271912714687), ((0, 3), 0.04409318026365178), ((0, 4), 0.04114831579661934), ((0, 5), 0.049411138235673564), ((0, 6), 0.005821405061439449), ((0, 7), 0.028617519309277095), ((0, 8), 0.02246393839432301), ((0, 9), 0.019486962672584256), ((0, 10), 0.012192515227992327), ((0, 11), 0.06280256657237519), ((0, 12), 0.012023896027354515), ((0, 13), 0.04495605914934897), ((0, 14), 0.044025216534914806), ((0, 15), 0.029586846726688213), ((0, 16), 0.02726023363623871), ((0, 17), 0.008199894707464165), ((0, 18), 0.007432957655798879), ((0, 19), 0.005035262349074986), ((0, 20), 0.03733092948430521), ((0, 21), 0.035973378974737784), ((0, 22), 0.06550868620930318), ((0, 23), 0.0054352454252490825), ((0, 24), 0.022396405217745875), ((0, 25), 0.05598134858360854), ((0, 26), 0.04722445977343996), ((0, 27), 0.05777050306040158), ((0, 28), 0.02573848713437468), ((0, 29), 0.027821929724663345), ((0, 30), 0.04723024083377451), ((0, 31), 0.025746404499402503), ((0, 32), 0.06052419427887435), ((0, 33), 0.060722486750881766), ((0, 34), 0.044075502671146086), ((0, 35), 0.046800158150575186), ((0, 36), 0.0520881341794451), ((0, 37), 0.047790583937132994), ((0, 38), 0.02344018170933538), ((0, 39), 0.0347476621243804), ((1, 0), 0.02251675305686585), ((1, 1), 0.062403730763264616), ((1, 2), 0.03831862852294862), ((1, 3), 0.08342719287002716), ((1, 4), 0.07785531589499), ((1, 5), 0.09348911860896718), ((1, 6), 0.011014480695909748), ((1, 7), 0.05414622598327083), ((1, 8), 0.04250324675692562), ((1, 9), 0.03687061317908357), ((1, 10), 0.023069039552471964), ((1, 11), 0.11882658050150674), ((1, 12), 0.02275000095083141), ((1, 13), 0.08505981639117238), ((1, 14), 0.08329860103175189), ((1, 15), 0.055980257117405806), ((1, 16), 0.05157815235040469), ((1, 17), 0.015514739313042045), ((1, 18), 0.014063644042846837), ((1, 19), 0.009527047054343598), ((1, 20), 0.07063257028597421), ((1, 21), 0.06806399556500202), ((1, 22), 0.12394673657846514), ((1, 23), 0.010283841303277173), ((1, 24), 0.0423754695516132), ((1, 25), 0.10592038808457074), ((1, 26), 0.08935177934873056), ((1, 27), 0.10930558585704195), ((1, 28), 0.04869890802846688), ((1, 29), 0.052640918238987505), ((1, 30), 0.08936271749455356), ((1, 31), 0.04871388820307097), ((1, 32), 0.11451575049053762), ((1, 33), 0.11489093287039591), ((1, 34), 0.08339374570403388), ((1, 35), 0.08854897281234231), ((1, 36), 0.09855417074578059), ((1, 37), 0.09042292344653417), ((1, 38), 0.0443503632235224), ((1, 39), 0.06574485878540565)])\n",
            "240 key-value pairs were sent over a network.\n",
            "[((0, 1), 0.07976246562978384), ((0, 2), 0.10440166202465359), ((0, 4), 0.21686959196544778), ((0, 5), 0.18529878665229982), ((0, 8), 0.0705022193414152), ((0, 9), 0.08903404590599959), ((0, 11), 0.19882490274284076), ((0, 12), 0.1284223043052111), ((0, 15), 0.1319959231845543), ((0, 16), 0.081193419985297), ((0, 18), 0.04592282564031713), ((0, 19), 0.19866305160184666), ((0, 22), 0.24460037597288642), ((0, 23), 0.10849063999690278), ((0, 25), 0.13562689735117456), ((0, 26), 0.10054018894914536), ((0, 29), 0.2109780727127441), ((0, 32), 0.2329424653779145), ((0, 33), 0.30145631509305026), ((0, 36), 0.29601164799243895), ((0, 39), 0.16844480709932894), ((1, 0), 0.26623538430695426), ((1, 1), 0.167355107169463), ((1, 3), 0.5403131015272986), ((1, 4), 0.4911947691066814), ((1, 7), 0.23251339180406944), ((1, 10), 0.08216788225056212), ((1, 11), 0.44546548192609847), ((1, 14), 0.5421228180278482), ((1, 17), 0.5103842668697361), ((1, 18), 0.10301411584639476), ((1, 21), 0.5482871542956054), ((1, 24), 0.21800414545581293), ((1, 25), 0.28536135435648985), ((1, 27), 0.357953345335252), ((1, 28), 0.5325683547664957), ((1, 31), 0.26384754887870204), ((1, 32), 0.5226197418161529), ((1, 34), 0.4672532359811665), ((1, 35), 0.44839017698186445), ((1, 38), 0.3319167413636084), ((1, 39), 0.3659787400789045), ((0, 0), 0.11139671409915144), ((0, 3), 0.2402249429622076), ((0, 6), 0.15567137315987598), ((0, 7), 0.10204753425125557), ((0, 10), 0.037270777382278325), ((0, 13), 0.2872424189434364), ((0, 14), 0.2425000105874927), ((0, 17), 0.2177584337888399), ((0, 20), 0.16562275887184638), ((0, 21), 0.23724639078095824), ((0, 24), 0.09999975864475395), ((0, 27), 0.16833751291815618), ((0, 28), 0.23432287755068115), ((0, 30), 0.2198738619763883), ((0, 31), 0.12224816061672528), ((0, 34), 0.20161710781344744), ((0, 35), 0.2005648775722212), ((0, 37), 0.1696080687630637), ((0, 38), 0.14469948257791854), ((1, 2), 0.24412960382098142), ((1, 5), 0.4177939299254186), ((1, 6), 0.3777819423531181), ((1, 8), 0.1497195841467056), ((1, 9), 0.19384281945737797), ((1, 12), 0.28881972234191655), ((1, 13), 0.6540677432637116), ((1, 15), 0.2990919206017208), ((1, 16), 0.1816799461697982), ((1, 19), 0.45697285385515135), ((1, 20), 0.3845085541256983), ((1, 22), 0.5552629933145249), ((1, 23), 0.24422261577167412), ((1, 26), 0.20968974147409297), ((1, 29), 0.4823705024026065), ((1, 30), 0.5053221815416157), ((1, 33), 0.6791310232994111), ((1, 36), 0.6709616771188466), ((1, 37), 0.36222149931457454)]\n"
          ]
        },
        {
          "output_type": "execute_result",
          "data": {
            "text/plain": [
              "True"
            ]
          },
          "metadata": {},
          "execution_count": 65
        }
      ]
    }
  ]
}